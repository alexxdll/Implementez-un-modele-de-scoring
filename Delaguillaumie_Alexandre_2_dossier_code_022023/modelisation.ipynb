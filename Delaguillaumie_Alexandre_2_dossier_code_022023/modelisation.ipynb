{
 "cells": [
  {
   "cell_type": "markdown",
   "id": "99dfd85d",
   "metadata": {},
   "source": []
  },
  {
   "cell_type": "markdown",
   "id": "b2214450",
   "metadata": {},
   "source": [
    "# Implémentez un modèle de scoring"
   ]
  },
  {
   "cell_type": "code",
   "execution_count": 2,
   "id": "6ee6bfa0",
   "metadata": {},
   "outputs": [],
   "source": [
    "# librairies de base\n",
    "import pandas as pd\n",
    "import numpy as np\n",
    "import warnings\n",
    "import os\n",
    "import sys\n",
    "warnings.filterwarnings('ignore')\n",
    "warnings.simplefilter(action='ignore', category=FutureWarning)\n",
    "pd.options.mode.chained_assignment = None\n",
    "import pickle\n",
    "import gc\n",
    "import time\n",
    "from contextlib import contextmanager\n",
    "from urllib.parse import urlparse\n",
    "import logging\n",
    "logging.disable(logging.WARNING) # disable WARNING, INFO and DEBUG logging everywhere"
   ]
  },
  {
   "cell_type": "code",
   "execution_count": 3,
   "id": "2bd49277",
   "metadata": {},
   "outputs": [],
   "source": [
    "# librairies de dataviz\n",
    "import seaborn as sns\n",
    "import matplotlib.pyplot as plt\n",
    "sns.set()\n",
    "%matplotlib inline"
   ]
  },
  {
   "cell_type": "code",
   "execution_count": 4,
   "id": "8389358b",
   "metadata": {},
   "outputs": [],
   "source": [
    "# Sklearn\n",
    "from sklearn import metrics\n",
    "from sklearn.metrics import roc_auc_score, roc_curve\n",
    "from sklearn.model_selection import KFold, StratifiedKFold\n",
    "from sklearn.metrics import mean_squared_error, mean_absolute_error, r2_score\n",
    "from sklearn.model_selection import train_test_split\n",
    "from sklearn.feature_selection import SelectFromModel\n",
    "from sklearn.impute import KNNImputer\n",
    "from sklearn.impute import SimpleImputer\n",
    "from sklearn.preprocessing import OneHotEncoder\n",
    "from sklearn.model_selection import GridSearchCV\n",
    "from sklearn.pipeline import Pipeline\n",
    "from sklearn.compose import ColumnTransformer\n",
    "from sklearn.preprocessing import StandardScaler\n",
    "from sklearn.metrics import make_scorer\n",
    "from sklearn.metrics import balanced_accuracy_score\n",
    "from sklearn.metrics import f1_score\n",
    "from sklearn.metrics import confusion_matrix\n",
    "from sklearn.dummy import DummyClassifier\n",
    "from imblearn.datasets import make_imbalance\n",
    "from imblearn.metrics import classification_report_imbalanced\n",
    "from imblearn.under_sampling import RandomUnderSampler\n",
    "from imblearn.pipeline import make_pipeline\n",
    "from imblearn.over_sampling import SMOTE\n",
    "\n",
    "\n",
    "import mlflow\n",
    "import mlflow.sklearn\n",
    "import mlflow.pyfunc"
   ]
  },
  {
   "cell_type": "code",
   "execution_count": 5,
   "id": "a68f9f1a",
   "metadata": {},
   "outputs": [],
   "source": [
    "from sklearn.dummy import DummyClassifier\n",
    "from xgboost import XGBClassifier\n",
    "from sklearn.linear_model import LogisticRegression\n",
    "from sklearn.ensemble import RandomForestClassifier\n",
    "from sklearn.neighbors import KNeighborsClassifier"
   ]
  },
  {
   "cell_type": "code",
   "execution_count": 6,
   "id": "1e2168cf",
   "metadata": {},
   "outputs": [],
   "source": [
    "import shap"
   ]
  },
  {
   "cell_type": "code",
   "execution_count": 7,
   "id": "21f806a5",
   "metadata": {},
   "outputs": [],
   "source": [
    "import joblib\n",
    "from mlflow.models.signature import infer_signature"
   ]
  },
  {
   "cell_type": "markdown",
   "id": "d8799870",
   "metadata": {},
   "source": [
    "# Données brutes"
   ]
  },
  {
   "cell_type": "markdown",
   "id": "8193198b",
   "metadata": {},
   "source": [
    "- **application_{train|test}.csv**\n",
    "\n",
    "Il s'agit de la table principale, divisée en deux fichiers pour Train (avec TARGET) et Test (sans TARGET). Données statiques pour toutes les applications. Une ligne représente un prêt dans notre échantillon de données.\n",
    "\n",
    "- **bureau.csv**\n",
    "\n",
    "Tous les crédits antérieurs du client fournis par d'autres institutions financières qui ont été signalés au bureau de crédit (pour les clients qui ont un prêt dans notre échantillon). Pour chaque prêt de notre échantillon, il y a autant de lignes que le nombre de crédits que le client avait dans le Credit Bureau avant la date de la demande.\n",
    "\n",
    "- **bureau_balance.csv**\n",
    "\n",
    "Soldes mensuels des crédits antérieurs au bureau de crédit. Ce tableau comporte une ligne pour chaque mois d'historique de chaque crédit précédent signalé au bureau de crédit - c'est-à-dire que le tableau a (#prêts dans l'échantillon * # de crédits précédents relatifs * # de mois où nous avons un historique observable pour les crédits précédents) lignes.\n",
    "\n",
    "- **POS_CASH_balance.csv**\n",
    "\n",
    "Instantanés mensuels du solde des points de vente précédents et des prêts en espèces que le demandeur avait contractés avec Home Credit. Ce tableau comporte une ligne pour chaque mois d'historique de chaque crédit précédent dans Home Credit (crédit à la consommation et prêts de trésorerie) lié aux prêts de notre échantillon - c'est-à-dire que le tableau a (#prêts dans l'échantillon * # de crédits précédents relatifs * # de mois dans lequel nous avons un historique observable pour les lignes des crédits précédents).\n",
    "\n",
    "- **credit_card_balance.csv**\n",
    "\n",
    "Aperçus mensuels du solde des cartes de crédit précédentes que le demandeur a avec Home Credit. Ce tableau comporte une ligne pour chaque mois d'historique de chaque crédit précédent dans Home Credit (crédit à la consommation et prêts de trésorerie) lié aux prêts de notre échantillon - c'est-à-dire que le tableau a (#prêts dans l'échantillon * # de cartes de crédit précédentes relatives * # de mois où nous avons un historique observable pour la carte de crédit précédente) lignes.\n",
    "\n",
    "- **previous_application.csv**\n",
    "\n",
    "Toutes les demandes précédentes de prêts immobiliers des clients qui ont des prêts dans notre échantillon. Il y a une ligne pour chaque demande précédente liée aux prêts dans notre échantillon de données.\n",
    "\n",
    "- **installments_payments.csv**\n",
    "\n",
    "Historique de remboursement des crédits précédemment décaissés en Home Credit liés aux prêts de notre échantillon. Il y a a) une ligne pour chaque paiement effectué plus b) une ligne pour chaque paiement manqué. Une ligne équivaut à un versement d'une échéance OU une échéance correspondant à un versement d'un précédent crédit immobilier lié aux prêts de notre échantillon.\n",
    "\n",
    "- **HomeCredit_columns_description.csv**\n",
    "\n",
    "Ce fichier contient les descriptions des colonnes des différents fichiers de données."
   ]
  },
  {
   "cell_type": "code",
   "execution_count": 8,
   "id": "a69abc63",
   "metadata": {},
   "outputs": [],
   "source": [
    "# Chargement des données\n",
    "path = '/Users/alexandredelaguillaumie/Documents/Projet 7/Datasets'\n",
    "df_application_train = pd.read_csv(os.path.join(path,\n",
    "                                                \"application_train.csv\"))\n",
    "df_application_test = pd.read_csv(os.path.join(path,\n",
    "                                               \"application_test.csv\"))\n",
    "df_bureau = pd.read_csv(os.path.join(path,\n",
    "                                     \"bureau.csv\"))\n",
    "df_bureau_balance = pd.read_csv(os.path.join(path,\n",
    "                                             \"bureau_balance.csv\"))\n",
    "df_credit_card_balance = pd.read_csv(os.path.join(path,\n",
    "                                                  \"credit_card_balance.csv\"))\n",
    "df_installments_payments = pd.read_csv(os.path.join(path,\n",
    "                                                    \"installments_payments.csv\"))\n",
    "df_previous_application = pd.read_csv(os.path.join(path,\n",
    "                                                   \"previous_application.csv\"))\n",
    "df_POS_CASH_balance = pd.read_csv(os.path.join(path,\n",
    "                                               \"POS_CASH_balance.csv\"))"
   ]
  },
  {
   "cell_type": "code",
   "execution_count": 9,
   "id": "b087e079",
   "metadata": {},
   "outputs": [
    {
     "name": "stdout",
     "output_type": "stream",
     "text": [
      "Dimensions\n",
      "application_train shape :----- (307511, 122)\n",
      "application_test shape :------ (48744, 121)\n",
      "bureau shape :---------------- (1716428, 17)\n",
      "bureau_balance shape :-------- (27299925, 3)\n",
      "POS_CASH_balance shape :------ (10001358, 8)\n",
      "credit_card_balance shape :--- (3840312, 23)\n",
      "installments_payments shape :- (13605401, 8)\n",
      "previous_application shape:--- (1670214, 37)\n"
     ]
    }
   ],
   "source": [
    "print(\"Dimensions\")\n",
    "\n",
    "dict_df = {'application_train shape :': df_application_train.shape, \n",
    "           'application_test shape :' : df_application_test.shape, \n",
    "           'bureau shape :' : df_bureau.shape,\n",
    "           'bureau_balance shape :' : df_bureau_balance.shape,\n",
    "           'POS_CASH_balance shape :' : df_POS_CASH_balance.shape, \n",
    "           'credit_card_balance shape :' : df_credit_card_balance.shape, \n",
    "           'installments_payments shape :' : df_installments_payments.shape, \n",
    "           'previous_application shape:' : df_previous_application.shape}\n",
    "\n",
    "for key, value in dict_df.items():\n",
    "    print(f'{key :-<30} {value}')"
   ]
  },
  {
   "cell_type": "code",
   "execution_count": 10,
   "id": "4945ebdc",
   "metadata": {},
   "outputs": [
    {
     "name": "stdout",
     "output_type": "stream",
     "text": [
      "Number of inf\n",
      "application_train shape :----- 0\n",
      "application_test shape :------ 0\n",
      "bureau shape :---------------- 0\n",
      "bureau_balance shape :-------- 0\n",
      "POS_CASH_balance shape :------ 0\n",
      "credit_card_balance shape :--- 0\n",
      "installments_payments shape :- 0\n",
      "previous_application shape:--- 0\n"
     ]
    }
   ],
   "source": [
    "print(\"Number of inf\")\n",
    "\n",
    "dict_df = {'application_train shape :': (df_application_train == 'inf').sum().sum(),\n",
    "           'application_test shape :' : (df_application_test == 'inf').sum().sum(), \n",
    "           'bureau shape :' : (df_bureau == 'inf').sum().sum(),\n",
    "           'bureau_balance shape :' : (df_bureau_balance == 'inf').sum().sum(),\n",
    "           'POS_CASH_balance shape :' : (df_POS_CASH_balance == 'inf').sum().sum(), \n",
    "           'credit_card_balance shape :' : (df_credit_card_balance == 'inf').sum().sum(), \n",
    "           'installments_payments shape :' : (df_installments_payments == 'inf').sum().sum(), \n",
    "           'previous_application shape:' : (df_previous_application == 'inf').sum().sum()}\n",
    "\n",
    "for key, value in dict_df.items():\n",
    "    print(f'{key :-<30} {value}')"
   ]
  },
  {
   "cell_type": "code",
   "execution_count": 11,
   "id": "74d827e0",
   "metadata": {},
   "outputs": [
    {
     "name": "stdout",
     "output_type": "stream",
     "text": [
      "Number of NaN\n",
      "application_train shape :----- 9152465\n",
      "application_test shape :------ 1404419\n",
      "bureau shape :---------------- 3939947\n",
      "bureau_balance shape :-------- 0\n",
      "POS_CASH_balance shape :------ 52158\n",
      "credit_card_balance shape :--- 5877356\n",
      "installments_payments shape :- 5810\n",
      "previous_application shape:--- 11109336\n"
     ]
    }
   ],
   "source": [
    "print(\"Number of NaN\")\n",
    "\n",
    "dict_df = {'application_train shape :': df_application_train.isna().sum().sum(),\n",
    "           'application_test shape :' : df_application_test.isna().sum().sum(), \n",
    "           'bureau shape :' : df_bureau.isna().sum().sum(),\n",
    "           'bureau_balance shape :' : df_bureau_balance.isna().sum().sum(),\n",
    "           'POS_CASH_balance shape :' : df_POS_CASH_balance.isna().sum().sum(), \n",
    "           'credit_card_balance shape :' : df_credit_card_balance.isna().sum().sum(), \n",
    "           'installments_payments shape :' : df_installments_payments.isna().sum().sum(), \n",
    "           'previous_application shape:' : df_previous_application.isna().sum().sum()}\n",
    "\n",
    "for key, value in dict_df.items():\n",
    "    print(f'{key :-<30} {value}')"
   ]
  },
  {
   "cell_type": "code",
   "execution_count": 12,
   "id": "2d359cb0",
   "metadata": {},
   "outputs": [],
   "source": [
    "@contextmanager\n",
    "def timer(title):\n",
    "    t0 = time.time()\n",
    "    yield\n",
    "    print(\"{} - done in {:.0f}s\".format(title,\n",
    "                                        time.time() \n",
    "                                        - t0))"
   ]
  },
  {
   "cell_type": "markdown",
   "id": "bf26ec60",
   "metadata": {},
   "source": [
    "# Fonctions"
   ]
  },
  {
   "cell_type": "code",
   "execution_count": 13,
   "id": "079e3df8",
   "metadata": {},
   "outputs": [],
   "source": [
    "# One-hot encoding for categorical columns with get_dummies\n",
    "def one_hot_encoder(df,\n",
    "                    nan_as_category = True):\n",
    "    original_columns = list(df.columns)\n",
    "    categorical_columns = [col for col in df.columns if df[col].dtype == 'object']\n",
    "    df = pd.get_dummies(df,\n",
    "                        columns= categorical_columns,\n",
    "                        dummy_na= nan_as_category)\n",
    "    new_columns = [c for c in df.columns if c not in original_columns]\n",
    "    return df, new_columns"
   ]
  },
  {
   "cell_type": "code",
   "execution_count": 14,
   "id": "f46746e2",
   "metadata": {},
   "outputs": [],
   "source": [
    "def column_names(data):\n",
    "    categorical_list = []\n",
    "    numerical_list = []\n",
    "    for i in data.columns.tolist():\n",
    "        if data[i].dtype=='object':\n",
    "            categorical_list.append(i)\n",
    "        else:\n",
    "            numerical_list.append(i)\n",
    "\n",
    "    # Récupérer le nom des catégories\n",
    "    cat = preprocessor.transformers_[1][1]\\\n",
    "          .get_feature_names(categorical_list)\n",
    "\n",
    "    # Nom de l'ensemble des colonnes preprocessed\n",
    "    column_names = numerical_list+cat.tolist()\n",
    "    return column_names"
   ]
  },
  {
   "cell_type": "code",
   "execution_count": 15,
   "id": "e1b68c4e",
   "metadata": {},
   "outputs": [],
   "source": [
    "def numerical_list(df):\n",
    "    categorical_list = []\n",
    "    numerical_list = []\n",
    "    for i in df.columns.tolist():\n",
    "        if df[i].dtype=='object':\n",
    "            categorical_list.append(i)\n",
    "        else:\n",
    "            numerical_list.append(i)\n",
    "    return numerical_list"
   ]
  },
  {
   "cell_type": "code",
   "execution_count": 16,
   "id": "8df6077e",
   "metadata": {},
   "outputs": [],
   "source": [
    "def categorical_list(df):\n",
    "    categorical_list = []\n",
    "    numerical_list = []\n",
    "    for i in df.columns.tolist():\n",
    "        if df[i].dtype=='object':\n",
    "            categorical_list.append(i)\n",
    "        else:\n",
    "            numerical_list.append(i)\n",
    "    return categorical_list"
   ]
  },
  {
   "cell_type": "code",
   "execution_count": 17,
   "id": "d3c084e1",
   "metadata": {},
   "outputs": [],
   "source": [
    "def eva_func(y_true,\n",
    "             y_pred,\n",
    "             fn_value=-10,\n",
    "             fp_value=0,\n",
    "             tp_value=0,\n",
    "             tn_value=1):\n",
    "\n",
    "    # Matrice de Confusion\n",
    "    mat_conf = confusion_matrix(y_true, y_pred)\n",
    "    \n",
    "    # Nombre de True Negatifs\n",
    "    tn = mat_conf[0, 0]\n",
    "    # Nombre de Faux Négatifs\n",
    "    fn = mat_conf[1, 0]\n",
    "    # Nombre de Faux Positifs\n",
    "    fp = mat_conf[0, 1]\n",
    "    # Nombre de True Positifs\n",
    "    tp = mat_conf[1, 1]\n",
    "    \n",
    "    # Gain total\n",
    "    J = tp*tp_value + tn*tn_value + fp*fp_value + fn*fn_value\n",
    "    \n",
    "    # Gain maximum\n",
    "    max_J = (fp + tn)*tn_value + (fn + tp)*tp_value\n",
    "    \n",
    "    # Gain minimum\n",
    "    min_J = (fp + tn)*fp_value + (fn + tp)*fn_value\n",
    "    \n",
    "    # Gain normalisé entre 0 et 1\n",
    "    J_normalized = (J - min_J)/(max_J - min_J)\n",
    "    \n",
    "    return J_normalized  # Retourne la fonction d'évaluation"
   ]
  },
  {
   "cell_type": "code",
   "execution_count": 18,
   "id": "449221eb",
   "metadata": {},
   "outputs": [],
   "source": [
    "def plot_heatmap_confusion(y_test,y_pred):\n",
    "    \n",
    "    plt.figure(1, figsize=(12, 4))\n",
    "    results = {}\n",
    "\n",
    "    conf_mx = confusion_matrix(y_test, y_pred)\n",
    "    results = conf_mx\n",
    "    mat_conf_df = pd.DataFrame(conf_mx,\n",
    "                               columns=[\"Solvable\", \"Non Solvable\"],\n",
    "                               index=[\"Solvable\", \"Non Solvable\"])\n",
    "\n",
    "    sns.heatmap(mat_conf_df, annot=True, linewidths=.7, fmt='g',cmap='YlOrBr')\n",
    "\n",
    "    plt.title('Matrice de confusion')\n",
    "    plt.ylim(0, 2)\n",
    "    plt.xlabel(\"Classes prédites\")\n",
    "    plt.ylabel(\"Classes réelles\")\n",
    "    plt.show()"
   ]
  },
  {
   "cell_type": "code",
   "execution_count": 19,
   "id": "8c3c974c",
   "metadata": {},
   "outputs": [],
   "source": [
    "def eval_metrics(actual,pred):\n",
    "    balance_accuracy = balanced_accuracy_score(actual,pred)\n",
    "    f1 = f1_score(actual,pred)\n",
    "    roc_auc = roc_auc_score(actual,pred)\n",
    "    accuracy_score = metrics.accuracy_score(actual,pred)\n",
    "    fbeta_score = metrics.fbeta_score(actual,pred, beta=3)\n",
    "    dictionnary = {}\n",
    "    dictionnary['balance_accuracy'] = balance_accuracy\n",
    "    dictionnary['f1'] = f1\n",
    "    dictionnary['roc_auc'] = roc_auc\n",
    "    dictionnary['accuracy_score'] = accuracy_score\n",
    "    dictionnary['fbeta_score'] = fbeta_score\n",
    "    return dictionnary"
   ]
  },
  {
   "cell_type": "code",
   "execution_count": 20,
   "id": "bc25f891",
   "metadata": {},
   "outputs": [],
   "source": [
    "# Preprocess application_train.csv and application_test.csv\n",
    "def application(num_rows = None,\n",
    "                nan_as_category = False):\n",
    "    # Read data and merge\n",
    "    df = pd.read_csv(os.path.join(path,\n",
    "                                  'application_train.csv'),\n",
    "                     nrows= num_rows)\n",
    "    test_df = pd.read_csv(os.path.join(path,\n",
    "                                       'application_test.csv'),\n",
    "                          nrows= num_rows)\n",
    "    print(\"Train samples: {}, test samples: {}\".format(len(df),\n",
    "                                                       len(test_df)))\n",
    "    df = df.append(test_df).reset_index()\n",
    "    # Optional: Remove 4 applications with XNA CODE_GENDER (train set)\n",
    "    df = df[df['CODE_GENDER'] != 'XNA']\n",
    "    \n",
    "    # Categorical features with Binary encode (0 or 1; two categories)\n",
    "    for bin_feature in ['CODE_GENDER',\n",
    "                        'FLAG_OWN_CAR',\n",
    "                        'FLAG_OWN_REALTY']:\n",
    "        df[bin_feature], uniques = pd.factorize(df[bin_feature])\n",
    "    # Categorical features with One-Hot encode\n",
    "    # df, cat_cols = one_hot_encoder(df, nan_as_category)\n",
    "    \n",
    "    # NaN values for DAYS_EMPLOYED: 365.243 -> nan\n",
    "    df['DAYS_EMPLOYED'].replace(365243,\n",
    "                                np.nan,\n",
    "                                inplace= True)\n",
    "    # Some simple new features (percentages)\n",
    "    df['DAYS_EMPLOYED_PERC'] = df['DAYS_EMPLOYED'] / df['DAYS_BIRTH']\n",
    "    df['INCOME_CREDIT_PERC'] = df['AMT_INCOME_TOTAL'] / df['AMT_CREDIT']\n",
    "    df['INCOME_PER_PERSON'] = df['AMT_INCOME_TOTAL'] / df['CNT_FAM_MEMBERS']\n",
    "    df['ANNUITY_INCOME_PERC'] = df['AMT_ANNUITY'] / df['AMT_INCOME_TOTAL']\n",
    "    df['PAYMENT_RATE'] = df['AMT_ANNUITY'] / df['AMT_CREDIT']\n",
    "    del test_df\n",
    "    gc.collect()\n",
    "    return df"
   ]
  },
  {
   "cell_type": "code",
   "execution_count": 21,
   "id": "0be283fc",
   "metadata": {},
   "outputs": [],
   "source": [
    "# Preprocess bureau.csv and bureau_balance.csv\n",
    "def bureau_and_balance(num_rows = None,\n",
    "                       nan_as_category = True):\n",
    "    bureau = pd.read_csv(os.path.join(path,'bureau.csv'),\n",
    "                         nrows = num_rows)\n",
    "    bb = pd.read_csv(os.path.join(path,\n",
    "                                  'bureau_balance.csv'),\n",
    "                     nrows = num_rows)\n",
    "    # OHE\n",
    "    bb, bb_cat = one_hot_encoder(bb,\n",
    "                                 nan_as_category)\n",
    "    bureau, bureau_cat = one_hot_encoder(bureau,\n",
    "                                         nan_as_category)\n",
    "    \n",
    "    # Bureau balance: Perform aggregations and merge with bureau.csv\n",
    "    bb_aggregations = {'MONTHS_BALANCE': ['min',\n",
    "                                          'max',\n",
    "                                          'size']}\n",
    "    for col in bb_cat:\n",
    "        bb_aggregations[col] = ['mean']\n",
    "    bb_agg = bb.groupby('SK_ID_BUREAU').agg(bb_aggregations)\n",
    "    bb_agg.columns = pd.Index([e[0] \n",
    "                               + \"_\" \n",
    "                               + e[1].upper() for e in bb_agg.columns.tolist()])\n",
    "    bureau = bureau.join(bb_agg,\n",
    "                         how='left',\n",
    "                         on='SK_ID_BUREAU')\n",
    "    bureau.drop(['SK_ID_BUREAU'],\n",
    "                axis=1,\n",
    "                inplace= True)\n",
    "    del bb, bb_agg\n",
    "    gc.collect()\n",
    "    \n",
    "    # Bureau and bureau_balance numeric features\n",
    "    num_aggregations = {\n",
    "        'DAYS_CREDIT': ['min',\n",
    "                        'max',\n",
    "                        'mean',\n",
    "                        'var'],\n",
    "        'DAYS_CREDIT_ENDDATE': ['min',\n",
    "                                'max',\n",
    "                                'mean'],\n",
    "        'DAYS_CREDIT_UPDATE': ['mean'],\n",
    "        'CREDIT_DAY_OVERDUE': ['max',\n",
    "                               'mean'],\n",
    "        'AMT_CREDIT_MAX_OVERDUE': ['mean'],\n",
    "        'AMT_CREDIT_SUM': ['max',\n",
    "                           'mean',\n",
    "                           'sum'],\n",
    "        'AMT_CREDIT_SUM_DEBT': ['max',\n",
    "                                'mean',\n",
    "                                'sum'],\n",
    "        'AMT_CREDIT_SUM_OVERDUE': ['mean'],\n",
    "        'AMT_CREDIT_SUM_LIMIT': ['mean',\n",
    "                                 'sum'],\n",
    "        'AMT_ANNUITY': ['max',\n",
    "                        'mean'],\n",
    "        'CNT_CREDIT_PROLONG': ['sum'],\n",
    "        'MONTHS_BALANCE_MIN': ['min'],\n",
    "        'MONTHS_BALANCE_MAX': ['max'],\n",
    "        'MONTHS_BALANCE_SIZE': ['mean',\n",
    "                                'sum']\n",
    "    }\n",
    "    # Bureau and bureau_balance categorical features\n",
    "    cat_aggregations = {}\n",
    "    for cat in bureau_cat: cat_aggregations[cat] = ['mean']\n",
    "    for cat in bb_cat: cat_aggregations[cat \n",
    "                                        + \"_MEAN\"] = ['mean']\n",
    "    \n",
    "    bureau_agg = bureau.groupby('SK_ID_CURR').agg({**num_aggregations,\n",
    "                                                   **cat_aggregations})\n",
    "    bureau_agg.columns = pd.Index(['BURO_' \n",
    "                                   + e[0] \n",
    "                                   + \"_\" \n",
    "                                   + e[1].upper() for e in bureau_agg.columns.tolist()])\n",
    "    # Bureau: Active credits - using only numerical aggregations\n",
    "    active = bureau[bureau['CREDIT_ACTIVE_Active'] == 1]\n",
    "    active_agg = active.groupby('SK_ID_CURR').agg(num_aggregations)\n",
    "    active_agg.columns = pd.Index(['ACTIVE_' \n",
    "                                   + e[0] \n",
    "                                   + \"_\" \n",
    "                                   + e[1].upper() for e in active_agg.columns.tolist()])\n",
    "    bureau_agg = bureau_agg.join(active_agg,\n",
    "                                 how='left',\n",
    "                                 on='SK_ID_CURR')\n",
    "    del active, active_agg\n",
    "    gc.collect()\n",
    "    # Bureau: Closed credits - using only numerical aggregations\n",
    "    closed = bureau[bureau['CREDIT_ACTIVE_Closed'] == 1]\n",
    "    closed_agg = closed.groupby('SK_ID_CURR').agg(num_aggregations)\n",
    "    closed_agg.columns = pd.Index(['CLOSED_' \n",
    "                                   + e[0] \n",
    "                                   + \"_\" \n",
    "                                   + e[1].upper() for e in closed_agg.columns.tolist()])\n",
    "    bureau_agg = bureau_agg.join(closed_agg\n",
    "                                 , how='left',\n",
    "                                 on='SK_ID_CURR')\n",
    "    del closed, closed_agg, bureau\n",
    "    gc.collect()\n",
    "    return bureau_agg"
   ]
  },
  {
   "cell_type": "code",
   "execution_count": 22,
   "id": "fc67403c",
   "metadata": {},
   "outputs": [],
   "source": [
    "# Preprocess previous_applications.csv\n",
    "def previous_applications(num_rows = None,\n",
    "                          nan_as_category = True):\n",
    "    prev = pd.read_csv(os.path.join(path,\n",
    "                                    'previous_application.csv'),\n",
    "                       nrows = num_rows)\n",
    "    # OHE\n",
    "    prev, cat_cols = one_hot_encoder(prev,\n",
    "                                     nan_as_category= True)\n",
    "    # Days 365.243 values -> nan\n",
    "    prev['DAYS_FIRST_DRAWING'].replace(365243,\n",
    "                                       np.nan,\n",
    "                                       inplace= True)\n",
    "    prev['DAYS_FIRST_DUE'].replace(365243,\n",
    "                                   np.nan,\n",
    "                                   inplace= True)\n",
    "    prev['DAYS_LAST_DUE_1ST_VERSION'].replace(365243,\n",
    "                                              np.nan,\n",
    "                                              inplace= True)\n",
    "    prev['DAYS_LAST_DUE'].replace(365243,\n",
    "                                  np.nan,\n",
    "                                  inplace= True)\n",
    "    prev['DAYS_TERMINATION'].replace(365243,\n",
    "                                     np.nan,\n",
    "                                     inplace= True)\n",
    "    # Add feature: value ask / value received percentage\n",
    "    prev['APP_CREDIT_PERC'] = prev['AMT_APPLICATION'] / prev['AMT_CREDIT']\n",
    "    # Previous applications numeric features\n",
    "    num_aggregations = {\n",
    "        'AMT_ANNUITY': ['min',\n",
    "                        'max',\n",
    "                        'mean'],\n",
    "        'AMT_APPLICATION': ['min',\n",
    "                            'max',\n",
    "                            'mean'],\n",
    "        'AMT_CREDIT': ['min',\n",
    "                       'max',\n",
    "                       'mean'],\n",
    "        'APP_CREDIT_PERC': ['min',\n",
    "                            'max',\n",
    "                            'mean',\n",
    "                            'var'],\n",
    "        'AMT_DOWN_PAYMENT': ['min',\n",
    "                             'max',\n",
    "                             'mean'],\n",
    "        'AMT_GOODS_PRICE': ['min',\n",
    "                            'max',\n",
    "                            'mean'],\n",
    "        'HOUR_APPR_PROCESS_START': ['min',\n",
    "                                    'max',\n",
    "                                    'mean'],\n",
    "        'RATE_DOWN_PAYMENT': ['min',\n",
    "                              'max', 'mean'],\n",
    "        'DAYS_DECISION': ['min',\n",
    "                          'max', 'mean'],\n",
    "        'CNT_PAYMENT': ['mean',\n",
    "                        'sum'],\n",
    "    }\n",
    "    # Previous applications categorical features\n",
    "    cat_aggregations = {}\n",
    "    for cat in cat_cols:\n",
    "        cat_aggregations[cat] = ['mean']\n",
    "    \n",
    "    prev_agg = prev.groupby('SK_ID_CURR').agg({**num_aggregations, **cat_aggregations})\n",
    "    prev_agg.columns = pd.Index(['PREV_' \n",
    "                                 + e[0] \n",
    "                                 + \"_\" \n",
    "                                 + e[1].upper() for e in prev_agg.columns.tolist()])\n",
    "    # Previous Applications: Approved Applications - only numerical features\n",
    "    approved = prev[prev['NAME_CONTRACT_STATUS_Approved'] == 1]\n",
    "    approved_agg = approved.groupby('SK_ID_CURR').agg(num_aggregations)\n",
    "    approved_agg.columns = pd.Index(['APPROVED_' \n",
    "                                     + e[0] \n",
    "                                     + \"_\" \n",
    "                                     + e[1].upper() for e in approved_agg.columns.tolist()])\n",
    "    prev_agg = prev_agg.join(approved_agg,\n",
    "                             how='left',\n",
    "                             on='SK_ID_CURR')\n",
    "    # Previous Applications: Refused Applications - only numerical features\n",
    "    refused = prev[prev['NAME_CONTRACT_STATUS_Refused'] == 1]\n",
    "    refused_agg = refused.groupby('SK_ID_CURR').agg(num_aggregations)\n",
    "    refused_agg.columns = pd.Index(['REFUSED_' \n",
    "                                    + e[0] \n",
    "                                    + \"_\" \n",
    "                                    + e[1].upper() for e in refused_agg.columns.tolist()])\n",
    "    prev_agg = prev_agg.join(refused_agg,\n",
    "                             how='left',\n",
    "                             on='SK_ID_CURR')\n",
    "    del refused,refused_agg, approved, approved_agg, prev\n",
    "    gc.collect()\n",
    "    return prev_agg"
   ]
  },
  {
   "cell_type": "code",
   "execution_count": 23,
   "id": "1e70d3c5",
   "metadata": {},
   "outputs": [],
   "source": [
    "# Preprocess POS_CASH_balance.csv\n",
    "def pos_cash(num_rows = None,\n",
    "             nan_as_category = True):\n",
    "    pos = pd.read_csv(os.path.join(path,\n",
    "                                   'POS_CASH_balance.csv'),\n",
    "                      nrows = num_rows)\n",
    "    # OHE\n",
    "    pos, cat_cols = one_hot_encoder(pos,\n",
    "                                    nan_as_category= True)\n",
    "    # Features\n",
    "    aggregations = {\n",
    "        'MONTHS_BALANCE': ['max',\n",
    "                           'mean',\n",
    "                           'size'],\n",
    "        'SK_DPD': ['max',\n",
    "                   'mean'],\n",
    "        'SK_DPD_DEF': ['max',\n",
    "                       'mean']\n",
    "    }\n",
    "    for cat in cat_cols:\n",
    "        aggregations[cat] = ['mean']\n",
    "    \n",
    "    pos_agg = pos.groupby('SK_ID_CURR').agg(aggregations)\n",
    "    pos_agg.columns = pd.Index(['POS_' \n",
    "                                + e[0] \n",
    "                                + \"_\" \n",
    "                                + e[1].upper() for e in pos_agg.columns.tolist()])\n",
    "    # Count pos cash accounts\n",
    "    pos_agg['POS_COUNT'] = pos.groupby('SK_ID_CURR').size()\n",
    "    del pos\n",
    "    gc.collect()\n",
    "    return pos_agg"
   ]
  },
  {
   "cell_type": "code",
   "execution_count": 24,
   "id": "af340936",
   "metadata": {},
   "outputs": [],
   "source": [
    "# Preprocess installments_payments.csv\n",
    "def installments_payments(num_rows = None,\n",
    "                          nan_as_category = True):\n",
    "    ins = pd.read_csv(os.path.join(path,\n",
    "                                   'installments_payments.csv'),\n",
    "                      nrows = num_rows)\n",
    "    # OHE\n",
    "    ins, cat_cols = one_hot_encoder(ins,\n",
    "                                    nan_as_category= True)\n",
    "    # Percentage and difference paid in each installment (amount paid and installment value)\n",
    "    ins['PAYMENT_PERC'] = ins['AMT_PAYMENT'] / ins['AMT_INSTALMENT']\n",
    "    ins['PAYMENT_DIFF'] = ins['AMT_INSTALMENT'] - ins['AMT_PAYMENT']\n",
    "    # Days past due and days before due (no negative values)\n",
    "    ins['DPD'] = ins['DAYS_ENTRY_PAYMENT'] - ins['DAYS_INSTALMENT']\n",
    "    ins['DBD'] = ins['DAYS_INSTALMENT'] - ins['DAYS_ENTRY_PAYMENT']\n",
    "    ins['DPD'] = ins['DPD'].apply(lambda x: x if x > 0 else 0)\n",
    "    ins['DBD'] = ins['DBD'].apply(lambda x: x if x > 0 else 0)\n",
    "    # Features: Perform aggregations\n",
    "    aggregations = {\n",
    "        'NUM_INSTALMENT_VERSION': ['nunique'],\n",
    "        'DPD': ['max',\n",
    "                'mean',\n",
    "                'sum'],\n",
    "        'DBD': ['max',\n",
    "                'mean',\n",
    "                'sum'],\n",
    "        'PAYMENT_PERC': ['max',\n",
    "                         'mean',\n",
    "                         'sum',\n",
    "                         'var'],\n",
    "        'PAYMENT_DIFF': ['max',\n",
    "                         'mean',\n",
    "                         'sum',\n",
    "                         'var'],\n",
    "        'AMT_INSTALMENT': ['max',\n",
    "                           'mean',\n",
    "                           'sum'],\n",
    "        'AMT_PAYMENT': ['min',\n",
    "                        'max',\n",
    "                        'mean',\n",
    "                        'sum'],\n",
    "        'DAYS_ENTRY_PAYMENT': ['max',\n",
    "                               'mean',\n",
    "                               'sum']\n",
    "    }\n",
    "    for cat in cat_cols:\n",
    "        aggregations[cat] = ['mean']\n",
    "    ins_agg = ins.groupby('SK_ID_CURR').agg(aggregations)\n",
    "    ins_agg.columns = pd.Index(['INSTAL_' \n",
    "                                + e[0] \n",
    "                                + \"_\" \n",
    "                                + e[1].upper() for e in ins_agg.columns.tolist()])\n",
    "    # Count installments accounts\n",
    "    ins_agg['INSTAL_COUNT'] = ins.groupby('SK_ID_CURR').size()\n",
    "    del ins\n",
    "    gc.collect()\n",
    "    return ins_agg"
   ]
  },
  {
   "cell_type": "code",
   "execution_count": 25,
   "id": "84c40726",
   "metadata": {},
   "outputs": [],
   "source": [
    "# Preprocess credit_card_balance.csv\n",
    "def credit_card_balance(num_rows = None,\n",
    "                        nan_as_category = True):\n",
    "    cc = pd.read_csv(os.path.join(path,\n",
    "                                  'credit_card_balance.csv'),\n",
    "                     nrows = num_rows)\n",
    "    # OHE\n",
    "    cc, cat_cols = one_hot_encoder(cc,\n",
    "                                   nan_as_category= True)\n",
    "    # General aggregations\n",
    "    cc.drop(['SK_ID_PREV'],\n",
    "            axis= 1,\n",
    "            inplace = True)\n",
    "    cc_agg = cc.groupby('SK_ID_CURR').agg(['min',\n",
    "                                           'max',\n",
    "                                           'mean',\n",
    "                                           'sum',\n",
    "                                           'var'])\n",
    "    cc_agg.columns = pd.Index(['CC_' \n",
    "                               + e[0] \n",
    "                               + \"_\" \n",
    "                               + e[1].upper() for e in cc_agg.columns.tolist()])\n",
    "    # Count credit card lines\n",
    "    cc_agg['CC_COUNT'] = cc.groupby('SK_ID_CURR').size()\n",
    "    del cc\n",
    "    gc.collect()\n",
    "    return cc_agg"
   ]
  },
  {
   "cell_type": "markdown",
   "id": "1cb19e31",
   "metadata": {},
   "source": [
    "# Création du DataFrame final"
   ]
  },
  {
   "cell_type": "code",
   "execution_count": 26,
   "id": "c97792dc",
   "metadata": {
    "scrolled": false
   },
   "outputs": [],
   "source": [
    "def main(debug = False):\n",
    "    num_rows = 10000 if debug else None\n",
    "    df = application(num_rows)\n",
    "    with timer(\"Process bureau and bureau_balance\"):\n",
    "        bureau = bureau_and_balance(num_rows)\n",
    "        print(\"Bureau df shape:\",\n",
    "              bureau.shape)\n",
    "        df = df.join(bureau,\n",
    "                     how='left',\n",
    "                     on='SK_ID_CURR')\n",
    "        del bureau\n",
    "        gc.collect()\n",
    "    with timer(\"Process previous_applications\"):\n",
    "        prev = previous_applications(num_rows)\n",
    "        print(\"Previous applications df shape:\", prev.shape)\n",
    "        df = df.join(prev,\n",
    "                     how='left',\n",
    "                     on='SK_ID_CURR')\n",
    "        del prev\n",
    "        gc.collect()\n",
    "    with timer(\"Process POS-CASH balance\"):\n",
    "        pos = pos_cash(num_rows)\n",
    "        print(\"Pos-cash balance df shape:\",\n",
    "              pos.shape)\n",
    "        df = df.join(pos,\n",
    "                     how='left',\n",
    "                     on='SK_ID_CURR')\n",
    "        del pos\n",
    "        gc.collect()\n",
    "    with timer(\"Process installments payments\"):\n",
    "        ins = installments_payments(num_rows)\n",
    "        print(\"Installments payments df shape:\",\n",
    "              ins.shape)\n",
    "        df = df.join(ins,\n",
    "                     how='left',\n",
    "                     on='SK_ID_CURR')\n",
    "        del ins\n",
    "        gc.collect()\n",
    "    with timer(\"Process credit card balance\"):\n",
    "        cc = credit_card_balance(num_rows)\n",
    "        print(\"Credit card balance df shape:\",\n",
    "              cc.shape)\n",
    "        df = df.join(cc,\n",
    "                     how='left',\n",
    "                     on='SK_ID_CURR')\n",
    "        del cc\n",
    "        gc.collect()\n",
    "    return df"
   ]
  },
  {
   "cell_type": "code",
   "execution_count": 27,
   "id": "0e5313eb",
   "metadata": {},
   "outputs": [
    {
     "name": "stdout",
     "output_type": "stream",
     "text": [
      "Train samples: 307511, test samples: 48744\n",
      "Bureau df shape: (305811, 116)\n",
      "Process bureau and bureau_balance - done in 77s\n",
      "Previous applications df shape: (338857, 249)\n",
      "Process previous_applications - done in 81s\n",
      "Pos-cash balance df shape: (337252, 18)\n",
      "Process POS-CASH balance - done in 51s\n",
      "Installments payments df shape: (339587, 26)\n",
      "Process installments payments - done in 101s\n",
      "Credit card balance df shape: (103558, 141)\n",
      "Process credit card balance - done in 82s\n",
      "Full model run - done in 416s\n"
     ]
    }
   ],
   "source": [
    "if __name__ == \"__main__\":\n",
    "    submission_file_name = os.path.join(path,\n",
    "                                        \"submission_kernel02.csv\")\n",
    "    with timer(\"Full model run\"):\n",
    "        df_final = main()"
   ]
  },
  {
   "cell_type": "markdown",
   "id": "b44d6876",
   "metadata": {},
   "source": [
    "# Traitement"
   ]
  },
  {
   "cell_type": "code",
   "execution_count": 28,
   "id": "06f45e32",
   "metadata": {},
   "outputs": [],
   "source": [
    "df_final = df_final.copy().dropna(subset=['TARGET'])"
   ]
  },
  {
   "cell_type": "code",
   "execution_count": 29,
   "id": "b8ce7021",
   "metadata": {},
   "outputs": [
    {
     "data": {
      "text/plain": [
       "(307507, 678)"
      ]
     },
     "execution_count": 29,
     "metadata": {},
     "output_type": "execute_result"
    }
   ],
   "source": [
    "df_final.shape"
   ]
  },
  {
   "cell_type": "markdown",
   "id": "a7b24487",
   "metadata": {},
   "source": [
    "# Enlever les colonnes avant plus de 45% de NaN"
   ]
  },
  {
   "cell_type": "code",
   "execution_count": 30,
   "id": "18882eeb",
   "metadata": {
    "scrolled": true
   },
   "outputs": [
    {
     "name": "stdout",
     "output_type": "stream",
     "text": [
      "OWN_CAR_AGE\n",
      "EXT_SOURCE_1\n",
      "APARTMENTS_AVG\n",
      "BASEMENTAREA_AVG\n",
      "YEARS_BEGINEXPLUATATION_AVG\n",
      "YEARS_BUILD_AVG\n",
      "COMMONAREA_AVG\n",
      "ELEVATORS_AVG\n",
      "ENTRANCES_AVG\n",
      "FLOORSMAX_AVG\n",
      "FLOORSMIN_AVG\n",
      "LANDAREA_AVG\n",
      "LIVINGAPARTMENTS_AVG\n",
      "LIVINGAREA_AVG\n",
      "NONLIVINGAPARTMENTS_AVG\n",
      "NONLIVINGAREA_AVG\n",
      "APARTMENTS_MODE\n",
      "BASEMENTAREA_MODE\n",
      "YEARS_BEGINEXPLUATATION_MODE\n",
      "YEARS_BUILD_MODE\n",
      "COMMONAREA_MODE\n",
      "ELEVATORS_MODE\n",
      "ENTRANCES_MODE\n",
      "FLOORSMAX_MODE\n",
      "FLOORSMIN_MODE\n",
      "LANDAREA_MODE\n",
      "LIVINGAPARTMENTS_MODE\n",
      "LIVINGAREA_MODE\n",
      "NONLIVINGAPARTMENTS_MODE\n",
      "NONLIVINGAREA_MODE\n",
      "APARTMENTS_MEDI\n",
      "BASEMENTAREA_MEDI\n",
      "YEARS_BEGINEXPLUATATION_MEDI\n",
      "YEARS_BUILD_MEDI\n",
      "COMMONAREA_MEDI\n",
      "ELEVATORS_MEDI\n",
      "ENTRANCES_MEDI\n",
      "FLOORSMAX_MEDI\n",
      "FLOORSMIN_MEDI\n",
      "LANDAREA_MEDI\n",
      "LIVINGAPARTMENTS_MEDI\n",
      "LIVINGAREA_MEDI\n",
      "NONLIVINGAPARTMENTS_MEDI\n",
      "NONLIVINGAREA_MEDI\n",
      "FONDKAPREMONT_MODE\n",
      "HOUSETYPE_MODE\n",
      "TOTALAREA_MODE\n",
      "WALLSMATERIAL_MODE\n",
      "EMERGENCYSTATE_MODE\n",
      "BURO_AMT_ANNUITY_MAX\n",
      "BURO_AMT_ANNUITY_MEAN\n",
      "BURO_MONTHS_BALANCE_MIN_MIN\n",
      "BURO_MONTHS_BALANCE_MAX_MAX\n",
      "BURO_MONTHS_BALANCE_SIZE_MEAN\n",
      "BURO_STATUS_0_MEAN_MEAN\n",
      "BURO_STATUS_1_MEAN_MEAN\n",
      "BURO_STATUS_2_MEAN_MEAN\n",
      "BURO_STATUS_3_MEAN_MEAN\n",
      "BURO_STATUS_4_MEAN_MEAN\n",
      "BURO_STATUS_5_MEAN_MEAN\n",
      "BURO_STATUS_C_MEAN_MEAN\n",
      "BURO_STATUS_X_MEAN_MEAN\n",
      "BURO_STATUS_nan_MEAN_MEAN\n",
      "ACTIVE_DAYS_CREDIT_VAR\n",
      "ACTIVE_AMT_CREDIT_MAX_OVERDUE_MEAN\n",
      "ACTIVE_AMT_ANNUITY_MAX\n",
      "ACTIVE_AMT_ANNUITY_MEAN\n",
      "ACTIVE_MONTHS_BALANCE_MIN_MIN\n",
      "ACTIVE_MONTHS_BALANCE_MAX_MAX\n",
      "ACTIVE_MONTHS_BALANCE_SIZE_MEAN\n",
      "CLOSED_AMT_CREDIT_MAX_OVERDUE_MEAN\n",
      "CLOSED_AMT_ANNUITY_MAX\n",
      "CLOSED_AMT_ANNUITY_MEAN\n",
      "CLOSED_MONTHS_BALANCE_MIN_MIN\n",
      "CLOSED_MONTHS_BALANCE_MAX_MAX\n",
      "CLOSED_MONTHS_BALANCE_SIZE_MEAN\n",
      "REFUSED_AMT_ANNUITY_MIN\n",
      "REFUSED_AMT_ANNUITY_MAX\n",
      "REFUSED_AMT_ANNUITY_MEAN\n",
      "REFUSED_AMT_APPLICATION_MIN\n",
      "REFUSED_AMT_APPLICATION_MAX\n",
      "REFUSED_AMT_APPLICATION_MEAN\n",
      "REFUSED_AMT_CREDIT_MIN\n",
      "REFUSED_AMT_CREDIT_MAX\n",
      "REFUSED_AMT_CREDIT_MEAN\n",
      "REFUSED_APP_CREDIT_PERC_MIN\n",
      "REFUSED_APP_CREDIT_PERC_MAX\n",
      "REFUSED_APP_CREDIT_PERC_MEAN\n",
      "REFUSED_APP_CREDIT_PERC_VAR\n",
      "REFUSED_AMT_DOWN_PAYMENT_MIN\n",
      "REFUSED_AMT_DOWN_PAYMENT_MAX\n",
      "REFUSED_AMT_DOWN_PAYMENT_MEAN\n",
      "REFUSED_AMT_GOODS_PRICE_MIN\n",
      "REFUSED_AMT_GOODS_PRICE_MAX\n",
      "REFUSED_AMT_GOODS_PRICE_MEAN\n",
      "REFUSED_HOUR_APPR_PROCESS_START_MIN\n",
      "REFUSED_HOUR_APPR_PROCESS_START_MAX\n",
      "REFUSED_HOUR_APPR_PROCESS_START_MEAN\n",
      "REFUSED_RATE_DOWN_PAYMENT_MIN\n",
      "REFUSED_RATE_DOWN_PAYMENT_MAX\n",
      "REFUSED_RATE_DOWN_PAYMENT_MEAN\n",
      "REFUSED_DAYS_DECISION_MIN\n",
      "REFUSED_DAYS_DECISION_MAX\n",
      "REFUSED_DAYS_DECISION_MEAN\n",
      "REFUSED_CNT_PAYMENT_MEAN\n",
      "REFUSED_CNT_PAYMENT_SUM\n",
      "CC_MONTHS_BALANCE_MIN\n",
      "CC_MONTHS_BALANCE_MAX\n",
      "CC_MONTHS_BALANCE_MEAN\n",
      "CC_MONTHS_BALANCE_SUM\n",
      "CC_MONTHS_BALANCE_VAR\n",
      "CC_AMT_BALANCE_MIN\n",
      "CC_AMT_BALANCE_MAX\n",
      "CC_AMT_BALANCE_MEAN\n",
      "CC_AMT_BALANCE_SUM\n",
      "CC_AMT_BALANCE_VAR\n",
      "CC_AMT_CREDIT_LIMIT_ACTUAL_MIN\n",
      "CC_AMT_CREDIT_LIMIT_ACTUAL_MAX\n",
      "CC_AMT_CREDIT_LIMIT_ACTUAL_MEAN\n",
      "CC_AMT_CREDIT_LIMIT_ACTUAL_SUM\n",
      "CC_AMT_CREDIT_LIMIT_ACTUAL_VAR\n",
      "CC_AMT_DRAWINGS_ATM_CURRENT_MIN\n",
      "CC_AMT_DRAWINGS_ATM_CURRENT_MAX\n",
      "CC_AMT_DRAWINGS_ATM_CURRENT_MEAN\n",
      "CC_AMT_DRAWINGS_ATM_CURRENT_SUM\n",
      "CC_AMT_DRAWINGS_ATM_CURRENT_VAR\n",
      "CC_AMT_DRAWINGS_CURRENT_MIN\n",
      "CC_AMT_DRAWINGS_CURRENT_MAX\n",
      "CC_AMT_DRAWINGS_CURRENT_MEAN\n",
      "CC_AMT_DRAWINGS_CURRENT_SUM\n",
      "CC_AMT_DRAWINGS_CURRENT_VAR\n",
      "CC_AMT_DRAWINGS_OTHER_CURRENT_MIN\n",
      "CC_AMT_DRAWINGS_OTHER_CURRENT_MAX\n",
      "CC_AMT_DRAWINGS_OTHER_CURRENT_MEAN\n",
      "CC_AMT_DRAWINGS_OTHER_CURRENT_SUM\n",
      "CC_AMT_DRAWINGS_OTHER_CURRENT_VAR\n",
      "CC_AMT_DRAWINGS_POS_CURRENT_MIN\n",
      "CC_AMT_DRAWINGS_POS_CURRENT_MAX\n",
      "CC_AMT_DRAWINGS_POS_CURRENT_MEAN\n",
      "CC_AMT_DRAWINGS_POS_CURRENT_SUM\n",
      "CC_AMT_DRAWINGS_POS_CURRENT_VAR\n",
      "CC_AMT_INST_MIN_REGULARITY_MIN\n",
      "CC_AMT_INST_MIN_REGULARITY_MAX\n",
      "CC_AMT_INST_MIN_REGULARITY_MEAN\n",
      "CC_AMT_INST_MIN_REGULARITY_SUM\n",
      "CC_AMT_INST_MIN_REGULARITY_VAR\n",
      "CC_AMT_PAYMENT_CURRENT_MIN\n",
      "CC_AMT_PAYMENT_CURRENT_MAX\n",
      "CC_AMT_PAYMENT_CURRENT_MEAN\n",
      "CC_AMT_PAYMENT_CURRENT_SUM\n",
      "CC_AMT_PAYMENT_CURRENT_VAR\n",
      "CC_AMT_PAYMENT_TOTAL_CURRENT_MIN\n",
      "CC_AMT_PAYMENT_TOTAL_CURRENT_MAX\n",
      "CC_AMT_PAYMENT_TOTAL_CURRENT_MEAN\n",
      "CC_AMT_PAYMENT_TOTAL_CURRENT_SUM\n",
      "CC_AMT_PAYMENT_TOTAL_CURRENT_VAR\n",
      "CC_AMT_RECEIVABLE_PRINCIPAL_MIN\n",
      "CC_AMT_RECEIVABLE_PRINCIPAL_MAX\n",
      "CC_AMT_RECEIVABLE_PRINCIPAL_MEAN\n",
      "CC_AMT_RECEIVABLE_PRINCIPAL_SUM\n",
      "CC_AMT_RECEIVABLE_PRINCIPAL_VAR\n",
      "CC_AMT_RECIVABLE_MIN\n",
      "CC_AMT_RECIVABLE_MAX\n",
      "CC_AMT_RECIVABLE_MEAN\n",
      "CC_AMT_RECIVABLE_SUM\n",
      "CC_AMT_RECIVABLE_VAR\n",
      "CC_AMT_TOTAL_RECEIVABLE_MIN\n",
      "CC_AMT_TOTAL_RECEIVABLE_MAX\n",
      "CC_AMT_TOTAL_RECEIVABLE_MEAN\n",
      "CC_AMT_TOTAL_RECEIVABLE_SUM\n",
      "CC_AMT_TOTAL_RECEIVABLE_VAR\n",
      "CC_CNT_DRAWINGS_ATM_CURRENT_MIN\n",
      "CC_CNT_DRAWINGS_ATM_CURRENT_MAX\n",
      "CC_CNT_DRAWINGS_ATM_CURRENT_MEAN\n",
      "CC_CNT_DRAWINGS_ATM_CURRENT_SUM\n",
      "CC_CNT_DRAWINGS_ATM_CURRENT_VAR\n",
      "CC_CNT_DRAWINGS_CURRENT_MIN\n",
      "CC_CNT_DRAWINGS_CURRENT_MAX\n",
      "CC_CNT_DRAWINGS_CURRENT_MEAN\n",
      "CC_CNT_DRAWINGS_CURRENT_SUM\n",
      "CC_CNT_DRAWINGS_CURRENT_VAR\n",
      "CC_CNT_DRAWINGS_OTHER_CURRENT_MIN\n",
      "CC_CNT_DRAWINGS_OTHER_CURRENT_MAX\n",
      "CC_CNT_DRAWINGS_OTHER_CURRENT_MEAN\n",
      "CC_CNT_DRAWINGS_OTHER_CURRENT_SUM\n",
      "CC_CNT_DRAWINGS_OTHER_CURRENT_VAR\n",
      "CC_CNT_DRAWINGS_POS_CURRENT_MIN\n",
      "CC_CNT_DRAWINGS_POS_CURRENT_MAX\n",
      "CC_CNT_DRAWINGS_POS_CURRENT_MEAN\n",
      "CC_CNT_DRAWINGS_POS_CURRENT_SUM\n",
      "CC_CNT_DRAWINGS_POS_CURRENT_VAR\n",
      "CC_CNT_INSTALMENT_MATURE_CUM_MIN\n",
      "CC_CNT_INSTALMENT_MATURE_CUM_MAX\n",
      "CC_CNT_INSTALMENT_MATURE_CUM_MEAN\n",
      "CC_CNT_INSTALMENT_MATURE_CUM_SUM\n",
      "CC_CNT_INSTALMENT_MATURE_CUM_VAR\n",
      "CC_SK_DPD_MIN\n",
      "CC_SK_DPD_MAX\n",
      "CC_SK_DPD_MEAN\n",
      "CC_SK_DPD_SUM\n",
      "CC_SK_DPD_VAR\n",
      "CC_SK_DPD_DEF_MIN\n",
      "CC_SK_DPD_DEF_MAX\n",
      "CC_SK_DPD_DEF_MEAN\n",
      "CC_SK_DPD_DEF_SUM\n",
      "CC_SK_DPD_DEF_VAR\n",
      "CC_NAME_CONTRACT_STATUS_Active_MIN\n",
      "CC_NAME_CONTRACT_STATUS_Active_MAX\n",
      "CC_NAME_CONTRACT_STATUS_Active_MEAN\n",
      "CC_NAME_CONTRACT_STATUS_Active_SUM\n",
      "CC_NAME_CONTRACT_STATUS_Active_VAR\n",
      "CC_NAME_CONTRACT_STATUS_Approved_MIN\n",
      "CC_NAME_CONTRACT_STATUS_Approved_MAX\n",
      "CC_NAME_CONTRACT_STATUS_Approved_MEAN\n",
      "CC_NAME_CONTRACT_STATUS_Approved_SUM\n",
      "CC_NAME_CONTRACT_STATUS_Approved_VAR\n",
      "CC_NAME_CONTRACT_STATUS_Completed_MIN\n",
      "CC_NAME_CONTRACT_STATUS_Completed_MAX\n",
      "CC_NAME_CONTRACT_STATUS_Completed_MEAN\n",
      "CC_NAME_CONTRACT_STATUS_Completed_SUM\n",
      "CC_NAME_CONTRACT_STATUS_Completed_VAR\n",
      "CC_NAME_CONTRACT_STATUS_Demand_MIN\n",
      "CC_NAME_CONTRACT_STATUS_Demand_MAX\n",
      "CC_NAME_CONTRACT_STATUS_Demand_MEAN\n",
      "CC_NAME_CONTRACT_STATUS_Demand_SUM\n",
      "CC_NAME_CONTRACT_STATUS_Demand_VAR\n",
      "CC_NAME_CONTRACT_STATUS_Refused_MIN\n",
      "CC_NAME_CONTRACT_STATUS_Refused_MAX\n",
      "CC_NAME_CONTRACT_STATUS_Refused_MEAN\n",
      "CC_NAME_CONTRACT_STATUS_Refused_SUM\n",
      "CC_NAME_CONTRACT_STATUS_Refused_VAR\n",
      "CC_NAME_CONTRACT_STATUS_Sent proposal_MIN\n",
      "CC_NAME_CONTRACT_STATUS_Sent proposal_MAX\n",
      "CC_NAME_CONTRACT_STATUS_Sent proposal_MEAN\n",
      "CC_NAME_CONTRACT_STATUS_Sent proposal_SUM\n",
      "CC_NAME_CONTRACT_STATUS_Sent proposal_VAR\n",
      "CC_NAME_CONTRACT_STATUS_Signed_MIN\n",
      "CC_NAME_CONTRACT_STATUS_Signed_MAX\n",
      "CC_NAME_CONTRACT_STATUS_Signed_MEAN\n",
      "CC_NAME_CONTRACT_STATUS_Signed_SUM\n",
      "CC_NAME_CONTRACT_STATUS_Signed_VAR\n",
      "CC_NAME_CONTRACT_STATUS_nan_MIN\n",
      "CC_NAME_CONTRACT_STATUS_nan_MAX\n",
      "CC_NAME_CONTRACT_STATUS_nan_MEAN\n",
      "CC_NAME_CONTRACT_STATUS_nan_SUM\n",
      "CC_NAME_CONTRACT_STATUS_nan_VAR\n",
      "CC_COUNT\n"
     ]
    }
   ],
   "source": [
    "for col in df_final.columns :\n",
    "    if df_final[col].isna().sum()/df_final[col].shape[0]  > .45 :\n",
    "        print(col)\n",
    "        del df_final[col]"
   ]
  },
  {
   "cell_type": "markdown",
   "id": "5d8f8c0a",
   "metadata": {},
   "source": [
    "# Enlever les index ayant toutes ses colonnes vides"
   ]
  },
  {
   "cell_type": "code",
   "execution_count": 31,
   "id": "0992fd83",
   "metadata": {},
   "outputs": [],
   "source": [
    "df_final = df_final.dropna(how='all')"
   ]
  },
  {
   "cell_type": "code",
   "execution_count": 32,
   "id": "1a8e013b",
   "metadata": {},
   "outputs": [],
   "source": [
    "df_final.drop('index',\n",
    "              axis=1,\n",
    "              inplace=True)"
   ]
  },
  {
   "cell_type": "markdown",
   "id": "3fb99cb8",
   "metadata": {},
   "source": [
    "# Afficher les pourcentages et nombre de NaN par colonnes"
   ]
  },
  {
   "cell_type": "code",
   "execution_count": 33,
   "id": "6050b5a6",
   "metadata": {
    "scrolled": false
   },
   "outputs": [
    {
     "data": {
      "text/html": [
       "<div>\n",
       "<style scoped>\n",
       "    .dataframe tbody tr th:only-of-type {\n",
       "        vertical-align: middle;\n",
       "    }\n",
       "\n",
       "    .dataframe tbody tr th {\n",
       "        vertical-align: top;\n",
       "    }\n",
       "\n",
       "    .dataframe thead th {\n",
       "        text-align: right;\n",
       "    }\n",
       "</style>\n",
       "<table border=\"1\" class=\"dataframe\">\n",
       "  <thead>\n",
       "    <tr style=\"text-align: right;\">\n",
       "      <th></th>\n",
       "      <th>Number_of_NaN</th>\n",
       "      <th>Pourcentage_of_NaN</th>\n",
       "    </tr>\n",
       "  </thead>\n",
       "  <tbody>\n",
       "    <tr>\n",
       "      <th>CLOSED_DAYS_CREDIT_VAR</th>\n",
       "      <td>130851</td>\n",
       "      <td>42.6</td>\n",
       "    </tr>\n",
       "    <tr>\n",
       "      <th>BURO_AMT_CREDIT_MAX_OVERDUE_MEAN</th>\n",
       "      <td>123625</td>\n",
       "      <td>40.2</td>\n",
       "    </tr>\n",
       "    <tr>\n",
       "      <th>ACTIVE_AMT_CREDIT_SUM_LIMIT_MEAN</th>\n",
       "      <td>118783</td>\n",
       "      <td>38.6</td>\n",
       "    </tr>\n",
       "    <tr>\n",
       "      <th>CLOSED_AMT_CREDIT_SUM_LIMIT_MEAN</th>\n",
       "      <td>108539</td>\n",
       "      <td>35.3</td>\n",
       "    </tr>\n",
       "    <tr>\n",
       "      <th>ACTIVE_AMT_CREDIT_SUM_DEBT_MEAN</th>\n",
       "      <td>100997</td>\n",
       "      <td>32.8</td>\n",
       "    </tr>\n",
       "    <tr>\n",
       "      <th>ACTIVE_AMT_CREDIT_SUM_DEBT_MAX</th>\n",
       "      <td>100997</td>\n",
       "      <td>32.8</td>\n",
       "    </tr>\n",
       "    <tr>\n",
       "      <th>ACTIVE_DAYS_CREDIT_ENDDATE_MEAN</th>\n",
       "      <td>99324</td>\n",
       "      <td>32.3</td>\n",
       "    </tr>\n",
       "    <tr>\n",
       "      <th>ACTIVE_DAYS_CREDIT_ENDDATE_MIN</th>\n",
       "      <td>99324</td>\n",
       "      <td>32.3</td>\n",
       "    </tr>\n",
       "    <tr>\n",
       "      <th>ACTIVE_DAYS_CREDIT_ENDDATE_MAX</th>\n",
       "      <td>99324</td>\n",
       "      <td>32.3</td>\n",
       "    </tr>\n",
       "    <tr>\n",
       "      <th>OCCUPATION_TYPE</th>\n",
       "      <td>96389</td>\n",
       "      <td>31.3</td>\n",
       "    </tr>\n",
       "    <tr>\n",
       "      <th>APPROVED_APP_CREDIT_PERC_VAR</th>\n",
       "      <td>94266</td>\n",
       "      <td>30.7</td>\n",
       "    </tr>\n",
       "    <tr>\n",
       "      <th>ACTIVE_DAYS_CREDIT_UPDATE_MEAN</th>\n",
       "      <td>90361</td>\n",
       "      <td>29.4</td>\n",
       "    </tr>\n",
       "    <tr>\n",
       "      <th>ACTIVE_DAYS_CREDIT_MAX</th>\n",
       "      <td>90361</td>\n",
       "      <td>29.4</td>\n",
       "    </tr>\n",
       "    <tr>\n",
       "      <th>ACTIVE_AMT_CREDIT_SUM_OVERDUE_MEAN</th>\n",
       "      <td>90361</td>\n",
       "      <td>29.4</td>\n",
       "    </tr>\n",
       "    <tr>\n",
       "      <th>ACTIVE_AMT_CREDIT_SUM_DEBT_SUM</th>\n",
       "      <td>90361</td>\n",
       "      <td>29.4</td>\n",
       "    </tr>\n",
       "    <tr>\n",
       "      <th>ACTIVE_DAYS_CREDIT_MIN</th>\n",
       "      <td>90361</td>\n",
       "      <td>29.4</td>\n",
       "    </tr>\n",
       "    <tr>\n",
       "      <th>ACTIVE_CREDIT_DAY_OVERDUE_MAX</th>\n",
       "      <td>90361</td>\n",
       "      <td>29.4</td>\n",
       "    </tr>\n",
       "    <tr>\n",
       "      <th>ACTIVE_AMT_CREDIT_SUM_SUM</th>\n",
       "      <td>90361</td>\n",
       "      <td>29.4</td>\n",
       "    </tr>\n",
       "    <tr>\n",
       "      <th>ACTIVE_AMT_CREDIT_SUM_MEAN</th>\n",
       "      <td>90362</td>\n",
       "      <td>29.4</td>\n",
       "    </tr>\n",
       "    <tr>\n",
       "      <th>ACTIVE_AMT_CREDIT_SUM_LIMIT_SUM</th>\n",
       "      <td>90361</td>\n",
       "      <td>29.4</td>\n",
       "    </tr>\n",
       "    <tr>\n",
       "      <th>ACTIVE_CNT_CREDIT_PROLONG_SUM</th>\n",
       "      <td>90361</td>\n",
       "      <td>29.4</td>\n",
       "    </tr>\n",
       "    <tr>\n",
       "      <th>ACTIVE_DAYS_CREDIT_MEAN</th>\n",
       "      <td>90361</td>\n",
       "      <td>29.4</td>\n",
       "    </tr>\n",
       "    <tr>\n",
       "      <th>ACTIVE_AMT_CREDIT_SUM_MAX</th>\n",
       "      <td>90362</td>\n",
       "      <td>29.4</td>\n",
       "    </tr>\n",
       "    <tr>\n",
       "      <th>ACTIVE_CREDIT_DAY_OVERDUE_MEAN</th>\n",
       "      <td>90361</td>\n",
       "      <td>29.4</td>\n",
       "    </tr>\n",
       "    <tr>\n",
       "      <th>ACTIVE_MONTHS_BALANCE_SIZE_SUM</th>\n",
       "      <td>90361</td>\n",
       "      <td>29.4</td>\n",
       "    </tr>\n",
       "    <tr>\n",
       "      <th>CLOSED_AMT_CREDIT_SUM_DEBT_MEAN</th>\n",
       "      <td>89178</td>\n",
       "      <td>29.0</td>\n",
       "    </tr>\n",
       "    <tr>\n",
       "      <th>CLOSED_AMT_CREDIT_SUM_DEBT_MAX</th>\n",
       "      <td>89178</td>\n",
       "      <td>29.0</td>\n",
       "    </tr>\n",
       "    <tr>\n",
       "      <th>BURO_DAYS_CREDIT_VAR</th>\n",
       "      <td>80092</td>\n",
       "      <td>26.0</td>\n",
       "    </tr>\n",
       "    <tr>\n",
       "      <th>CLOSED_DAYS_CREDIT_ENDDATE_MEAN</th>\n",
       "      <td>78868</td>\n",
       "      <td>25.6</td>\n",
       "    </tr>\n",
       "    <tr>\n",
       "      <th>CLOSED_DAYS_CREDIT_ENDDATE_MIN</th>\n",
       "      <td>78868</td>\n",
       "      <td>25.6</td>\n",
       "    </tr>\n",
       "    <tr>\n",
       "      <th>CLOSED_DAYS_CREDIT_ENDDATE_MAX</th>\n",
       "      <td>78868</td>\n",
       "      <td>25.6</td>\n",
       "    </tr>\n",
       "    <tr>\n",
       "      <th>PREV_APP_CREDIT_PERC_VAR</th>\n",
       "      <td>78051</td>\n",
       "      <td>25.4</td>\n",
       "    </tr>\n",
       "    <tr>\n",
       "      <th>CLOSED_CREDIT_DAY_OVERDUE_MAX</th>\n",
       "      <td>77346</td>\n",
       "      <td>25.2</td>\n",
       "    </tr>\n",
       "    <tr>\n",
       "      <th>CLOSED_CREDIT_DAY_OVERDUE_MEAN</th>\n",
       "      <td>77346</td>\n",
       "      <td>25.2</td>\n",
       "    </tr>\n",
       "    <tr>\n",
       "      <th>CLOSED_DAYS_CREDIT_MAX</th>\n",
       "      <td>77346</td>\n",
       "      <td>25.2</td>\n",
       "    </tr>\n",
       "    <tr>\n",
       "      <th>CLOSED_DAYS_CREDIT_UPDATE_MEAN</th>\n",
       "      <td>77346</td>\n",
       "      <td>25.2</td>\n",
       "    </tr>\n",
       "    <tr>\n",
       "      <th>CLOSED_DAYS_CREDIT_MIN</th>\n",
       "      <td>77346</td>\n",
       "      <td>25.2</td>\n",
       "    </tr>\n",
       "    <tr>\n",
       "      <th>CLOSED_AMT_CREDIT_SUM_MAX</th>\n",
       "      <td>77346</td>\n",
       "      <td>25.2</td>\n",
       "    </tr>\n",
       "    <tr>\n",
       "      <th>CLOSED_DAYS_CREDIT_MEAN</th>\n",
       "      <td>77346</td>\n",
       "      <td>25.2</td>\n",
       "    </tr>\n",
       "    <tr>\n",
       "      <th>CLOSED_AMT_CREDIT_SUM_DEBT_SUM</th>\n",
       "      <td>77346</td>\n",
       "      <td>25.2</td>\n",
       "    </tr>\n",
       "    <tr>\n",
       "      <th>CLOSED_AMT_CREDIT_SUM_OVERDUE_MEAN</th>\n",
       "      <td>77346</td>\n",
       "      <td>25.2</td>\n",
       "    </tr>\n",
       "    <tr>\n",
       "      <th>CLOSED_AMT_CREDIT_SUM_SUM</th>\n",
       "      <td>77346</td>\n",
       "      <td>25.2</td>\n",
       "    </tr>\n",
       "    <tr>\n",
       "      <th>CLOSED_AMT_CREDIT_SUM_MEAN</th>\n",
       "      <td>77346</td>\n",
       "      <td>25.2</td>\n",
       "    </tr>\n",
       "    <tr>\n",
       "      <th>CLOSED_AMT_CREDIT_SUM_LIMIT_SUM</th>\n",
       "      <td>77346</td>\n",
       "      <td>25.2</td>\n",
       "    </tr>\n",
       "    <tr>\n",
       "      <th>CLOSED_MONTHS_BALANCE_SIZE_SUM</th>\n",
       "      <td>77346</td>\n",
       "      <td>25.2</td>\n",
       "    </tr>\n",
       "    <tr>\n",
       "      <th>CLOSED_CNT_CREDIT_PROLONG_SUM</th>\n",
       "      <td>77346</td>\n",
       "      <td>25.2</td>\n",
       "    </tr>\n",
       "    <tr>\n",
       "      <th>BURO_AMT_CREDIT_SUM_LIMIT_MEAN</th>\n",
       "      <td>65069</td>\n",
       "      <td>21.2</td>\n",
       "    </tr>\n",
       "    <tr>\n",
       "      <th>EXT_SOURCE_3</th>\n",
       "      <td>60965</td>\n",
       "      <td>19.8</td>\n",
       "    </tr>\n",
       "    <tr>\n",
       "      <th>DAYS_EMPLOYED</th>\n",
       "      <td>55374</td>\n",
       "      <td>18.0</td>\n",
       "    </tr>\n",
       "    <tr>\n",
       "      <th>DAYS_EMPLOYED_PERC</th>\n",
       "      <td>55374</td>\n",
       "      <td>18.0</td>\n",
       "    </tr>\n",
       "  </tbody>\n",
       "</table>\n",
       "</div>"
      ],
      "text/plain": [
       "                                   Number_of_NaN Pourcentage_of_NaN\n",
       "CLOSED_DAYS_CREDIT_VAR                    130851               42.6\n",
       "BURO_AMT_CREDIT_MAX_OVERDUE_MEAN          123625               40.2\n",
       "ACTIVE_AMT_CREDIT_SUM_LIMIT_MEAN          118783               38.6\n",
       "CLOSED_AMT_CREDIT_SUM_LIMIT_MEAN          108539               35.3\n",
       "ACTIVE_AMT_CREDIT_SUM_DEBT_MEAN           100997               32.8\n",
       "ACTIVE_AMT_CREDIT_SUM_DEBT_MAX            100997               32.8\n",
       "ACTIVE_DAYS_CREDIT_ENDDATE_MEAN            99324               32.3\n",
       "ACTIVE_DAYS_CREDIT_ENDDATE_MIN             99324               32.3\n",
       "ACTIVE_DAYS_CREDIT_ENDDATE_MAX             99324               32.3\n",
       "OCCUPATION_TYPE                            96389               31.3\n",
       "APPROVED_APP_CREDIT_PERC_VAR               94266               30.7\n",
       "ACTIVE_DAYS_CREDIT_UPDATE_MEAN             90361               29.4\n",
       "ACTIVE_DAYS_CREDIT_MAX                     90361               29.4\n",
       "ACTIVE_AMT_CREDIT_SUM_OVERDUE_MEAN         90361               29.4\n",
       "ACTIVE_AMT_CREDIT_SUM_DEBT_SUM             90361               29.4\n",
       "ACTIVE_DAYS_CREDIT_MIN                     90361               29.4\n",
       "ACTIVE_CREDIT_DAY_OVERDUE_MAX              90361               29.4\n",
       "ACTIVE_AMT_CREDIT_SUM_SUM                  90361               29.4\n",
       "ACTIVE_AMT_CREDIT_SUM_MEAN                 90362               29.4\n",
       "ACTIVE_AMT_CREDIT_SUM_LIMIT_SUM            90361               29.4\n",
       "ACTIVE_CNT_CREDIT_PROLONG_SUM              90361               29.4\n",
       "ACTIVE_DAYS_CREDIT_MEAN                    90361               29.4\n",
       "ACTIVE_AMT_CREDIT_SUM_MAX                  90362               29.4\n",
       "ACTIVE_CREDIT_DAY_OVERDUE_MEAN             90361               29.4\n",
       "ACTIVE_MONTHS_BALANCE_SIZE_SUM             90361               29.4\n",
       "CLOSED_AMT_CREDIT_SUM_DEBT_MEAN            89178               29.0\n",
       "CLOSED_AMT_CREDIT_SUM_DEBT_MAX             89178               29.0\n",
       "BURO_DAYS_CREDIT_VAR                       80092               26.0\n",
       "CLOSED_DAYS_CREDIT_ENDDATE_MEAN            78868               25.6\n",
       "CLOSED_DAYS_CREDIT_ENDDATE_MIN             78868               25.6\n",
       "CLOSED_DAYS_CREDIT_ENDDATE_MAX             78868               25.6\n",
       "PREV_APP_CREDIT_PERC_VAR                   78051               25.4\n",
       "CLOSED_CREDIT_DAY_OVERDUE_MAX              77346               25.2\n",
       "CLOSED_CREDIT_DAY_OVERDUE_MEAN             77346               25.2\n",
       "CLOSED_DAYS_CREDIT_MAX                     77346               25.2\n",
       "CLOSED_DAYS_CREDIT_UPDATE_MEAN             77346               25.2\n",
       "CLOSED_DAYS_CREDIT_MIN                     77346               25.2\n",
       "CLOSED_AMT_CREDIT_SUM_MAX                  77346               25.2\n",
       "CLOSED_DAYS_CREDIT_MEAN                    77346               25.2\n",
       "CLOSED_AMT_CREDIT_SUM_DEBT_SUM             77346               25.2\n",
       "CLOSED_AMT_CREDIT_SUM_OVERDUE_MEAN         77346               25.2\n",
       "CLOSED_AMT_CREDIT_SUM_SUM                  77346               25.2\n",
       "CLOSED_AMT_CREDIT_SUM_MEAN                 77346               25.2\n",
       "CLOSED_AMT_CREDIT_SUM_LIMIT_SUM            77346               25.2\n",
       "CLOSED_MONTHS_BALANCE_SIZE_SUM             77346               25.2\n",
       "CLOSED_CNT_CREDIT_PROLONG_SUM              77346               25.2\n",
       "BURO_AMT_CREDIT_SUM_LIMIT_MEAN             65069               21.2\n",
       "EXT_SOURCE_3                               60965               19.8\n",
       "DAYS_EMPLOYED                              55374               18.0\n",
       "DAYS_EMPLOYED_PERC                         55374               18.0"
      ]
     },
     "execution_count": 33,
     "metadata": {},
     "output_type": "execute_result"
    }
   ],
   "source": [
    "df_nan = pd.DataFrame(index=df_final.columns,\n",
    "                      columns=['Number_of_NaN',\n",
    "                               'Pourcentage_of_NaN'])\n",
    "for col in df_final.columns :\n",
    "    df_nan['Number_of_NaN'][col] = df_final[col].isna().sum()\n",
    "    df_nan['Pourcentage_of_NaN'][col] = round(df_final[col].isna().sum()\n",
    "                                              /df_final[col].shape[0]*100,\n",
    "                                              1)\n",
    "\n",
    "df_nan = df_nan.sort_values(by='Pourcentage_of_NaN',\n",
    "                            ascending=False)\n",
    "df_nan.head(50)"
   ]
  },
  {
   "cell_type": "markdown",
   "id": "965a67cd",
   "metadata": {},
   "source": [
    "# Enlever les inf"
   ]
  },
  {
   "cell_type": "code",
   "execution_count": 34,
   "id": "49194e9b",
   "metadata": {},
   "outputs": [],
   "source": [
    "# Using DataFrame.isin() to Create Filter\n",
    "df_filter = df_final.isin([np.nan,\n",
    "                           np.inf,\n",
    "                           -np.inf])\n",
    "# Mask df with the filter\n",
    "df_final = df_final[~df_filter]"
   ]
  },
  {
   "cell_type": "code",
   "execution_count": 35,
   "id": "9f345b1b",
   "metadata": {},
   "outputs": [
    {
     "name": "stdout",
     "output_type": "stream",
     "text": [
      "SK_ID_CURR------------------------------------------------------------ 0\n",
      "TARGET---------------------------------------------------------------- 0\n",
      "NAME_CONTRACT_TYPE---------------------------------------------------- 0\n",
      "CODE_GENDER----------------------------------------------------------- 0\n",
      "FLAG_OWN_CAR---------------------------------------------------------- 0\n",
      "FLAG_OWN_REALTY------------------------------------------------------- 0\n",
      "CNT_CHILDREN---------------------------------------------------------- 0\n",
      "AMT_INCOME_TOTAL------------------------------------------------------ 0\n",
      "AMT_CREDIT------------------------------------------------------------ 0\n",
      "AMT_ANNUITY----------------------------------------------------------- 0\n",
      "AMT_GOODS_PRICE------------------------------------------------------- 0\n",
      "NAME_TYPE_SUITE------------------------------------------------------- 0\n",
      "NAME_INCOME_TYPE------------------------------------------------------ 0\n",
      "NAME_EDUCATION_TYPE--------------------------------------------------- 0\n",
      "NAME_FAMILY_STATUS---------------------------------------------------- 0\n",
      "NAME_HOUSING_TYPE----------------------------------------------------- 0\n",
      "REGION_POPULATION_RELATIVE-------------------------------------------- 0\n",
      "DAYS_BIRTH------------------------------------------------------------ 0\n",
      "DAYS_EMPLOYED--------------------------------------------------------- 0\n",
      "DAYS_REGISTRATION----------------------------------------------------- 0\n",
      "DAYS_ID_PUBLISH------------------------------------------------------- 0\n",
      "FLAG_MOBIL------------------------------------------------------------ 0\n",
      "FLAG_EMP_PHONE-------------------------------------------------------- 0\n",
      "FLAG_WORK_PHONE------------------------------------------------------- 0\n",
      "FLAG_CONT_MOBILE------------------------------------------------------ 0\n",
      "FLAG_PHONE------------------------------------------------------------ 0\n",
      "FLAG_EMAIL------------------------------------------------------------ 0\n",
      "OCCUPATION_TYPE------------------------------------------------------- 0\n",
      "CNT_FAM_MEMBERS------------------------------------------------------- 0\n",
      "REGION_RATING_CLIENT-------------------------------------------------- 0\n",
      "REGION_RATING_CLIENT_W_CITY------------------------------------------- 0\n",
      "WEEKDAY_APPR_PROCESS_START-------------------------------------------- 0\n",
      "HOUR_APPR_PROCESS_START----------------------------------------------- 0\n",
      "REG_REGION_NOT_LIVE_REGION-------------------------------------------- 0\n",
      "REG_REGION_NOT_WORK_REGION-------------------------------------------- 0\n",
      "LIVE_REGION_NOT_WORK_REGION------------------------------------------- 0\n",
      "REG_CITY_NOT_LIVE_CITY------------------------------------------------ 0\n",
      "REG_CITY_NOT_WORK_CITY------------------------------------------------ 0\n",
      "LIVE_CITY_NOT_WORK_CITY----------------------------------------------- 0\n",
      "ORGANIZATION_TYPE----------------------------------------------------- 0\n",
      "EXT_SOURCE_2---------------------------------------------------------- 0\n",
      "EXT_SOURCE_3---------------------------------------------------------- 0\n",
      "OBS_30_CNT_SOCIAL_CIRCLE---------------------------------------------- 0\n",
      "DEF_30_CNT_SOCIAL_CIRCLE---------------------------------------------- 0\n",
      "OBS_60_CNT_SOCIAL_CIRCLE---------------------------------------------- 0\n",
      "DEF_60_CNT_SOCIAL_CIRCLE---------------------------------------------- 0\n",
      "DAYS_LAST_PHONE_CHANGE------------------------------------------------ 0\n",
      "FLAG_DOCUMENT_2------------------------------------------------------- 0\n",
      "FLAG_DOCUMENT_3------------------------------------------------------- 0\n",
      "FLAG_DOCUMENT_4------------------------------------------------------- 0\n",
      "FLAG_DOCUMENT_5------------------------------------------------------- 0\n",
      "FLAG_DOCUMENT_6------------------------------------------------------- 0\n",
      "FLAG_DOCUMENT_7------------------------------------------------------- 0\n",
      "FLAG_DOCUMENT_8------------------------------------------------------- 0\n",
      "FLAG_DOCUMENT_9------------------------------------------------------- 0\n",
      "FLAG_DOCUMENT_10------------------------------------------------------ 0\n",
      "FLAG_DOCUMENT_11------------------------------------------------------ 0\n",
      "FLAG_DOCUMENT_12------------------------------------------------------ 0\n",
      "FLAG_DOCUMENT_13------------------------------------------------------ 0\n",
      "FLAG_DOCUMENT_14------------------------------------------------------ 0\n",
      "FLAG_DOCUMENT_15------------------------------------------------------ 0\n",
      "FLAG_DOCUMENT_16------------------------------------------------------ 0\n",
      "FLAG_DOCUMENT_17------------------------------------------------------ 0\n",
      "FLAG_DOCUMENT_18------------------------------------------------------ 0\n",
      "FLAG_DOCUMENT_19------------------------------------------------------ 0\n",
      "FLAG_DOCUMENT_20------------------------------------------------------ 0\n",
      "FLAG_DOCUMENT_21------------------------------------------------------ 0\n",
      "AMT_REQ_CREDIT_BUREAU_HOUR-------------------------------------------- 0\n",
      "AMT_REQ_CREDIT_BUREAU_DAY--------------------------------------------- 0\n",
      "AMT_REQ_CREDIT_BUREAU_WEEK-------------------------------------------- 0\n",
      "AMT_REQ_CREDIT_BUREAU_MON--------------------------------------------- 0\n",
      "AMT_REQ_CREDIT_BUREAU_QRT--------------------------------------------- 0\n",
      "AMT_REQ_CREDIT_BUREAU_YEAR-------------------------------------------- 0\n",
      "DAYS_EMPLOYED_PERC---------------------------------------------------- 0\n",
      "INCOME_CREDIT_PERC---------------------------------------------------- 0\n",
      "INCOME_PER_PERSON----------------------------------------------------- 0\n",
      "ANNUITY_INCOME_PERC--------------------------------------------------- 0\n",
      "PAYMENT_RATE---------------------------------------------------------- 0\n",
      "BURO_DAYS_CREDIT_MIN-------------------------------------------------- 0\n",
      "BURO_DAYS_CREDIT_MAX-------------------------------------------------- 0\n",
      "BURO_DAYS_CREDIT_MEAN------------------------------------------------- 0\n",
      "BURO_DAYS_CREDIT_VAR-------------------------------------------------- 0\n",
      "BURO_DAYS_CREDIT_ENDDATE_MIN------------------------------------------ 0\n",
      "BURO_DAYS_CREDIT_ENDDATE_MAX------------------------------------------ 0\n",
      "BURO_DAYS_CREDIT_ENDDATE_MEAN----------------------------------------- 0\n",
      "BURO_DAYS_CREDIT_UPDATE_MEAN------------------------------------------ 0\n",
      "BURO_CREDIT_DAY_OVERDUE_MAX------------------------------------------- 0\n",
      "BURO_CREDIT_DAY_OVERDUE_MEAN------------------------------------------ 0\n",
      "BURO_AMT_CREDIT_MAX_OVERDUE_MEAN-------------------------------------- 0\n",
      "BURO_AMT_CREDIT_SUM_MAX----------------------------------------------- 0\n",
      "BURO_AMT_CREDIT_SUM_MEAN---------------------------------------------- 0\n",
      "BURO_AMT_CREDIT_SUM_SUM----------------------------------------------- 0\n",
      "BURO_AMT_CREDIT_SUM_DEBT_MAX------------------------------------------ 0\n",
      "BURO_AMT_CREDIT_SUM_DEBT_MEAN----------------------------------------- 0\n",
      "BURO_AMT_CREDIT_SUM_DEBT_SUM------------------------------------------ 0\n",
      "BURO_AMT_CREDIT_SUM_OVERDUE_MEAN-------------------------------------- 0\n",
      "BURO_AMT_CREDIT_SUM_LIMIT_MEAN---------------------------------------- 0\n",
      "BURO_AMT_CREDIT_SUM_LIMIT_SUM----------------------------------------- 0\n",
      "BURO_CNT_CREDIT_PROLONG_SUM------------------------------------------- 0\n",
      "BURO_MONTHS_BALANCE_SIZE_SUM------------------------------------------ 0\n",
      "BURO_CREDIT_ACTIVE_Active_MEAN---------------------------------------- 0\n",
      "BURO_CREDIT_ACTIVE_Bad debt_MEAN-------------------------------------- 0\n",
      "BURO_CREDIT_ACTIVE_Closed_MEAN---------------------------------------- 0\n",
      "BURO_CREDIT_ACTIVE_Sold_MEAN------------------------------------------ 0\n",
      "BURO_CREDIT_ACTIVE_nan_MEAN------------------------------------------- 0\n",
      "BURO_CREDIT_CURRENCY_currency 1_MEAN---------------------------------- 0\n",
      "BURO_CREDIT_CURRENCY_currency 2_MEAN---------------------------------- 0\n",
      "BURO_CREDIT_CURRENCY_currency 3_MEAN---------------------------------- 0\n",
      "BURO_CREDIT_CURRENCY_currency 4_MEAN---------------------------------- 0\n",
      "BURO_CREDIT_CURRENCY_nan_MEAN----------------------------------------- 0\n",
      "BURO_CREDIT_TYPE_Another type of loan_MEAN---------------------------- 0\n",
      "BURO_CREDIT_TYPE_Car loan_MEAN---------------------------------------- 0\n",
      "BURO_CREDIT_TYPE_Cash loan (non-earmarked)_MEAN----------------------- 0\n",
      "BURO_CREDIT_TYPE_Consumer credit_MEAN--------------------------------- 0\n",
      "BURO_CREDIT_TYPE_Credit card_MEAN------------------------------------- 0\n",
      "BURO_CREDIT_TYPE_Interbank credit_MEAN-------------------------------- 0\n",
      "BURO_CREDIT_TYPE_Loan for business development_MEAN------------------- 0\n",
      "BURO_CREDIT_TYPE_Loan for purchase of shares (margin lending)_MEAN---- 0\n",
      "BURO_CREDIT_TYPE_Loan for the purchase of equipment_MEAN-------------- 0\n",
      "BURO_CREDIT_TYPE_Loan for working capital replenishment_MEAN---------- 0\n",
      "BURO_CREDIT_TYPE_Microloan_MEAN--------------------------------------- 0\n",
      "BURO_CREDIT_TYPE_Mobile operator loan_MEAN---------------------------- 0\n"
     ]
    },
    {
     "name": "stdout",
     "output_type": "stream",
     "text": [
      "BURO_CREDIT_TYPE_Mortgage_MEAN---------------------------------------- 0\n",
      "BURO_CREDIT_TYPE_Real estate loan_MEAN-------------------------------- 0\n",
      "BURO_CREDIT_TYPE_Unknown type of loan_MEAN---------------------------- 0\n",
      "BURO_CREDIT_TYPE_nan_MEAN--------------------------------------------- 0\n",
      "ACTIVE_DAYS_CREDIT_MIN------------------------------------------------ 0\n",
      "ACTIVE_DAYS_CREDIT_MAX------------------------------------------------ 0\n",
      "ACTIVE_DAYS_CREDIT_MEAN----------------------------------------------- 0\n",
      "ACTIVE_DAYS_CREDIT_ENDDATE_MIN---------------------------------------- 0\n",
      "ACTIVE_DAYS_CREDIT_ENDDATE_MAX---------------------------------------- 0\n",
      "ACTIVE_DAYS_CREDIT_ENDDATE_MEAN--------------------------------------- 0\n",
      "ACTIVE_DAYS_CREDIT_UPDATE_MEAN---------------------------------------- 0\n",
      "ACTIVE_CREDIT_DAY_OVERDUE_MAX----------------------------------------- 0\n",
      "ACTIVE_CREDIT_DAY_OVERDUE_MEAN---------------------------------------- 0\n",
      "ACTIVE_AMT_CREDIT_SUM_MAX--------------------------------------------- 0\n",
      "ACTIVE_AMT_CREDIT_SUM_MEAN-------------------------------------------- 0\n",
      "ACTIVE_AMT_CREDIT_SUM_SUM--------------------------------------------- 0\n",
      "ACTIVE_AMT_CREDIT_SUM_DEBT_MAX---------------------------------------- 0\n",
      "ACTIVE_AMT_CREDIT_SUM_DEBT_MEAN--------------------------------------- 0\n",
      "ACTIVE_AMT_CREDIT_SUM_DEBT_SUM---------------------------------------- 0\n",
      "ACTIVE_AMT_CREDIT_SUM_OVERDUE_MEAN------------------------------------ 0\n",
      "ACTIVE_AMT_CREDIT_SUM_LIMIT_MEAN-------------------------------------- 0\n",
      "ACTIVE_AMT_CREDIT_SUM_LIMIT_SUM--------------------------------------- 0\n",
      "ACTIVE_CNT_CREDIT_PROLONG_SUM----------------------------------------- 0\n",
      "ACTIVE_MONTHS_BALANCE_SIZE_SUM---------------------------------------- 0\n",
      "CLOSED_DAYS_CREDIT_MIN------------------------------------------------ 0\n",
      "CLOSED_DAYS_CREDIT_MAX------------------------------------------------ 0\n",
      "CLOSED_DAYS_CREDIT_MEAN----------------------------------------------- 0\n",
      "CLOSED_DAYS_CREDIT_VAR------------------------------------------------ 0\n",
      "CLOSED_DAYS_CREDIT_ENDDATE_MIN---------------------------------------- 0\n",
      "CLOSED_DAYS_CREDIT_ENDDATE_MAX---------------------------------------- 0\n",
      "CLOSED_DAYS_CREDIT_ENDDATE_MEAN--------------------------------------- 0\n",
      "CLOSED_DAYS_CREDIT_UPDATE_MEAN---------------------------------------- 0\n",
      "CLOSED_CREDIT_DAY_OVERDUE_MAX----------------------------------------- 0\n",
      "CLOSED_CREDIT_DAY_OVERDUE_MEAN---------------------------------------- 0\n",
      "CLOSED_AMT_CREDIT_SUM_MAX--------------------------------------------- 0\n",
      "CLOSED_AMT_CREDIT_SUM_MEAN-------------------------------------------- 0\n",
      "CLOSED_AMT_CREDIT_SUM_SUM--------------------------------------------- 0\n",
      "CLOSED_AMT_CREDIT_SUM_DEBT_MAX---------------------------------------- 0\n",
      "CLOSED_AMT_CREDIT_SUM_DEBT_MEAN--------------------------------------- 0\n",
      "CLOSED_AMT_CREDIT_SUM_DEBT_SUM---------------------------------------- 0\n",
      "CLOSED_AMT_CREDIT_SUM_OVERDUE_MEAN------------------------------------ 0\n",
      "CLOSED_AMT_CREDIT_SUM_LIMIT_MEAN-------------------------------------- 0\n",
      "CLOSED_AMT_CREDIT_SUM_LIMIT_SUM--------------------------------------- 0\n",
      "CLOSED_CNT_CREDIT_PROLONG_SUM----------------------------------------- 0\n",
      "CLOSED_MONTHS_BALANCE_SIZE_SUM---------------------------------------- 0\n",
      "PREV_AMT_ANNUITY_MIN-------------------------------------------------- 0\n",
      "PREV_AMT_ANNUITY_MAX-------------------------------------------------- 0\n",
      "PREV_AMT_ANNUITY_MEAN------------------------------------------------- 0\n",
      "PREV_AMT_APPLICATION_MIN---------------------------------------------- 0\n",
      "PREV_AMT_APPLICATION_MAX---------------------------------------------- 0\n",
      "PREV_AMT_APPLICATION_MEAN--------------------------------------------- 0\n",
      "PREV_AMT_CREDIT_MIN--------------------------------------------------- 0\n",
      "PREV_AMT_CREDIT_MAX--------------------------------------------------- 0\n",
      "PREV_AMT_CREDIT_MEAN-------------------------------------------------- 0\n",
      "PREV_APP_CREDIT_PERC_MIN---------------------------------------------- 0\n",
      "PREV_APP_CREDIT_PERC_MAX---------------------------------------------- 0\n",
      "PREV_APP_CREDIT_PERC_MEAN--------------------------------------------- 0\n",
      "PREV_APP_CREDIT_PERC_VAR---------------------------------------------- 0\n",
      "PREV_AMT_DOWN_PAYMENT_MIN--------------------------------------------- 0\n",
      "PREV_AMT_DOWN_PAYMENT_MAX--------------------------------------------- 0\n",
      "PREV_AMT_DOWN_PAYMENT_MEAN-------------------------------------------- 0\n",
      "PREV_AMT_GOODS_PRICE_MIN---------------------------------------------- 0\n",
      "PREV_AMT_GOODS_PRICE_MAX---------------------------------------------- 0\n",
      "PREV_AMT_GOODS_PRICE_MEAN--------------------------------------------- 0\n",
      "PREV_HOUR_APPR_PROCESS_START_MIN-------------------------------------- 0\n",
      "PREV_HOUR_APPR_PROCESS_START_MAX-------------------------------------- 0\n",
      "PREV_HOUR_APPR_PROCESS_START_MEAN------------------------------------- 0\n",
      "PREV_RATE_DOWN_PAYMENT_MIN-------------------------------------------- 0\n",
      "PREV_RATE_DOWN_PAYMENT_MAX-------------------------------------------- 0\n",
      "PREV_RATE_DOWN_PAYMENT_MEAN------------------------------------------- 0\n",
      "PREV_DAYS_DECISION_MIN------------------------------------------------ 0\n",
      "PREV_DAYS_DECISION_MAX------------------------------------------------ 0\n",
      "PREV_DAYS_DECISION_MEAN----------------------------------------------- 0\n",
      "PREV_CNT_PAYMENT_MEAN------------------------------------------------- 0\n",
      "PREV_CNT_PAYMENT_SUM-------------------------------------------------- 0\n",
      "PREV_NAME_CONTRACT_TYPE_Cash loans_MEAN------------------------------- 0\n",
      "PREV_NAME_CONTRACT_TYPE_Consumer loans_MEAN--------------------------- 0\n",
      "PREV_NAME_CONTRACT_TYPE_Revolving loans_MEAN-------------------------- 0\n",
      "PREV_NAME_CONTRACT_TYPE_XNA_MEAN-------------------------------------- 0\n",
      "PREV_NAME_CONTRACT_TYPE_nan_MEAN-------------------------------------- 0\n",
      "PREV_WEEKDAY_APPR_PROCESS_START_FRIDAY_MEAN--------------------------- 0\n",
      "PREV_WEEKDAY_APPR_PROCESS_START_MONDAY_MEAN--------------------------- 0\n",
      "PREV_WEEKDAY_APPR_PROCESS_START_SATURDAY_MEAN------------------------- 0\n",
      "PREV_WEEKDAY_APPR_PROCESS_START_SUNDAY_MEAN--------------------------- 0\n",
      "PREV_WEEKDAY_APPR_PROCESS_START_THURSDAY_MEAN------------------------- 0\n",
      "PREV_WEEKDAY_APPR_PROCESS_START_TUESDAY_MEAN-------------------------- 0\n",
      "PREV_WEEKDAY_APPR_PROCESS_START_WEDNESDAY_MEAN------------------------ 0\n",
      "PREV_WEEKDAY_APPR_PROCESS_START_nan_MEAN------------------------------ 0\n",
      "PREV_FLAG_LAST_APPL_PER_CONTRACT_N_MEAN------------------------------- 0\n",
      "PREV_FLAG_LAST_APPL_PER_CONTRACT_Y_MEAN------------------------------- 0\n",
      "PREV_FLAG_LAST_APPL_PER_CONTRACT_nan_MEAN----------------------------- 0\n",
      "PREV_NAME_CASH_LOAN_PURPOSE_Building a house or an annex_MEAN--------- 0\n",
      "PREV_NAME_CASH_LOAN_PURPOSE_Business development_MEAN----------------- 0\n",
      "PREV_NAME_CASH_LOAN_PURPOSE_Buying a garage_MEAN---------------------- 0\n",
      "PREV_NAME_CASH_LOAN_PURPOSE_Buying a holiday home / land_MEAN--------- 0\n",
      "PREV_NAME_CASH_LOAN_PURPOSE_Buying a home_MEAN------------------------ 0\n",
      "PREV_NAME_CASH_LOAN_PURPOSE_Buying a new car_MEAN--------------------- 0\n",
      "PREV_NAME_CASH_LOAN_PURPOSE_Buying a used car_MEAN-------------------- 0\n",
      "PREV_NAME_CASH_LOAN_PURPOSE_Car repairs_MEAN-------------------------- 0\n",
      "PREV_NAME_CASH_LOAN_PURPOSE_Education_MEAN---------------------------- 0\n",
      "PREV_NAME_CASH_LOAN_PURPOSE_Everyday expenses_MEAN-------------------- 0\n",
      "PREV_NAME_CASH_LOAN_PURPOSE_Furniture_MEAN---------------------------- 0\n",
      "PREV_NAME_CASH_LOAN_PURPOSE_Gasification / water supply_MEAN---------- 0\n",
      "PREV_NAME_CASH_LOAN_PURPOSE_Hobby_MEAN-------------------------------- 0\n",
      "PREV_NAME_CASH_LOAN_PURPOSE_Journey_MEAN------------------------------ 0\n",
      "PREV_NAME_CASH_LOAN_PURPOSE_Medicine_MEAN----------------------------- 0\n",
      "PREV_NAME_CASH_LOAN_PURPOSE_Money for a third person_MEAN------------- 0\n",
      "PREV_NAME_CASH_LOAN_PURPOSE_Other_MEAN-------------------------------- 0\n",
      "PREV_NAME_CASH_LOAN_PURPOSE_Payments on other loans_MEAN-------------- 0\n",
      "PREV_NAME_CASH_LOAN_PURPOSE_Purchase of electronic equipment_MEAN----- 0\n",
      "PREV_NAME_CASH_LOAN_PURPOSE_Refusal to name the goal_MEAN------------- 0\n",
      "PREV_NAME_CASH_LOAN_PURPOSE_Repairs_MEAN------------------------------ 0\n",
      "PREV_NAME_CASH_LOAN_PURPOSE_Urgent needs_MEAN------------------------- 0\n",
      "PREV_NAME_CASH_LOAN_PURPOSE_Wedding / gift / holiday_MEAN------------- 0\n",
      "PREV_NAME_CASH_LOAN_PURPOSE_XAP_MEAN---------------------------------- 0\n",
      "PREV_NAME_CASH_LOAN_PURPOSE_XNA_MEAN---------------------------------- 0\n",
      "PREV_NAME_CASH_LOAN_PURPOSE_nan_MEAN---------------------------------- 0\n",
      "PREV_NAME_CONTRACT_STATUS_Approved_MEAN------------------------------- 0\n",
      "PREV_NAME_CONTRACT_STATUS_Canceled_MEAN------------------------------- 0\n",
      "PREV_NAME_CONTRACT_STATUS_Refused_MEAN-------------------------------- 0\n",
      "PREV_NAME_CONTRACT_STATUS_Unused offer_MEAN--------------------------- 0\n",
      "PREV_NAME_CONTRACT_STATUS_nan_MEAN------------------------------------ 0\n",
      "PREV_NAME_PAYMENT_TYPE_Cash through the bank_MEAN--------------------- 0\n",
      "PREV_NAME_PAYMENT_TYPE_Cashless from the account of the employer_MEAN- 0\n",
      "PREV_NAME_PAYMENT_TYPE_Non-cash from your account_MEAN---------------- 0\n",
      "PREV_NAME_PAYMENT_TYPE_XNA_MEAN--------------------------------------- 0\n",
      "PREV_NAME_PAYMENT_TYPE_nan_MEAN--------------------------------------- 0\n",
      "PREV_CODE_REJECT_REASON_CLIENT_MEAN----------------------------------- 0\n",
      "PREV_CODE_REJECT_REASON_HC_MEAN--------------------------------------- 0\n",
      "PREV_CODE_REJECT_REASON_LIMIT_MEAN------------------------------------ 0\n",
      "PREV_CODE_REJECT_REASON_SCO_MEAN-------------------------------------- 0\n",
      "PREV_CODE_REJECT_REASON_SCOFR_MEAN------------------------------------ 0\n",
      "PREV_CODE_REJECT_REASON_SYSTEM_MEAN----------------------------------- 0\n",
      "PREV_CODE_REJECT_REASON_VERIF_MEAN------------------------------------ 0\n",
      "PREV_CODE_REJECT_REASON_XAP_MEAN-------------------------------------- 0\n",
      "PREV_CODE_REJECT_REASON_XNA_MEAN-------------------------------------- 0\n",
      "PREV_CODE_REJECT_REASON_nan_MEAN-------------------------------------- 0\n",
      "PREV_NAME_TYPE_SUITE_Children_MEAN------------------------------------ 0\n"
     ]
    },
    {
     "name": "stdout",
     "output_type": "stream",
     "text": [
      "PREV_NAME_TYPE_SUITE_Family_MEAN-------------------------------------- 0\n",
      "PREV_NAME_TYPE_SUITE_Group of people_MEAN----------------------------- 0\n",
      "PREV_NAME_TYPE_SUITE_Other_A_MEAN------------------------------------- 0\n",
      "PREV_NAME_TYPE_SUITE_Other_B_MEAN------------------------------------- 0\n",
      "PREV_NAME_TYPE_SUITE_Spouse, partner_MEAN----------------------------- 0\n",
      "PREV_NAME_TYPE_SUITE_Unaccompanied_MEAN------------------------------- 0\n",
      "PREV_NAME_TYPE_SUITE_nan_MEAN----------------------------------------- 0\n",
      "PREV_NAME_CLIENT_TYPE_New_MEAN---------------------------------------- 0\n",
      "PREV_NAME_CLIENT_TYPE_Refreshed_MEAN---------------------------------- 0\n",
      "PREV_NAME_CLIENT_TYPE_Repeater_MEAN----------------------------------- 0\n",
      "PREV_NAME_CLIENT_TYPE_XNA_MEAN---------------------------------------- 0\n",
      "PREV_NAME_CLIENT_TYPE_nan_MEAN---------------------------------------- 0\n",
      "PREV_NAME_GOODS_CATEGORY_Additional Service_MEAN---------------------- 0\n",
      "PREV_NAME_GOODS_CATEGORY_Animals_MEAN--------------------------------- 0\n",
      "PREV_NAME_GOODS_CATEGORY_Audio/Video_MEAN----------------------------- 0\n",
      "PREV_NAME_GOODS_CATEGORY_Auto Accessories_MEAN------------------------ 0\n",
      "PREV_NAME_GOODS_CATEGORY_Clothing and Accessories_MEAN---------------- 0\n",
      "PREV_NAME_GOODS_CATEGORY_Computers_MEAN------------------------------- 0\n",
      "PREV_NAME_GOODS_CATEGORY_Construction Materials_MEAN------------------ 0\n",
      "PREV_NAME_GOODS_CATEGORY_Consumer Electronics_MEAN-------------------- 0\n",
      "PREV_NAME_GOODS_CATEGORY_Direct Sales_MEAN---------------------------- 0\n",
      "PREV_NAME_GOODS_CATEGORY_Education_MEAN------------------------------- 0\n",
      "PREV_NAME_GOODS_CATEGORY_Fitness_MEAN--------------------------------- 0\n",
      "PREV_NAME_GOODS_CATEGORY_Furniture_MEAN------------------------------- 0\n",
      "PREV_NAME_GOODS_CATEGORY_Gardening_MEAN------------------------------- 0\n",
      "PREV_NAME_GOODS_CATEGORY_Homewares_MEAN------------------------------- 0\n",
      "PREV_NAME_GOODS_CATEGORY_House Construction_MEAN---------------------- 0\n",
      "PREV_NAME_GOODS_CATEGORY_Insurance_MEAN------------------------------- 0\n",
      "PREV_NAME_GOODS_CATEGORY_Jewelry_MEAN--------------------------------- 0\n",
      "PREV_NAME_GOODS_CATEGORY_Medical Supplies_MEAN------------------------ 0\n",
      "PREV_NAME_GOODS_CATEGORY_Medicine_MEAN-------------------------------- 0\n",
      "PREV_NAME_GOODS_CATEGORY_Mobile_MEAN---------------------------------- 0\n",
      "PREV_NAME_GOODS_CATEGORY_Office Appliances_MEAN----------------------- 0\n",
      "PREV_NAME_GOODS_CATEGORY_Other_MEAN----------------------------------- 0\n",
      "PREV_NAME_GOODS_CATEGORY_Photo / Cinema Equipment_MEAN---------------- 0\n",
      "PREV_NAME_GOODS_CATEGORY_Sport and Leisure_MEAN----------------------- 0\n",
      "PREV_NAME_GOODS_CATEGORY_Tourism_MEAN--------------------------------- 0\n",
      "PREV_NAME_GOODS_CATEGORY_Vehicles_MEAN-------------------------------- 0\n",
      "PREV_NAME_GOODS_CATEGORY_Weapon_MEAN---------------------------------- 0\n",
      "PREV_NAME_GOODS_CATEGORY_XNA_MEAN------------------------------------- 0\n",
      "PREV_NAME_GOODS_CATEGORY_nan_MEAN------------------------------------- 0\n",
      "PREV_NAME_PORTFOLIO_Cards_MEAN---------------------------------------- 0\n",
      "PREV_NAME_PORTFOLIO_Cars_MEAN----------------------------------------- 0\n",
      "PREV_NAME_PORTFOLIO_Cash_MEAN----------------------------------------- 0\n",
      "PREV_NAME_PORTFOLIO_POS_MEAN------------------------------------------ 0\n",
      "PREV_NAME_PORTFOLIO_XNA_MEAN------------------------------------------ 0\n",
      "PREV_NAME_PORTFOLIO_nan_MEAN------------------------------------------ 0\n",
      "PREV_NAME_PRODUCT_TYPE_XNA_MEAN--------------------------------------- 0\n",
      "PREV_NAME_PRODUCT_TYPE_walk-in_MEAN----------------------------------- 0\n",
      "PREV_NAME_PRODUCT_TYPE_x-sell_MEAN------------------------------------ 0\n",
      "PREV_NAME_PRODUCT_TYPE_nan_MEAN--------------------------------------- 0\n",
      "PREV_CHANNEL_TYPE_AP+ (Cash loan)_MEAN-------------------------------- 0\n",
      "PREV_CHANNEL_TYPE_Car dealer_MEAN------------------------------------- 0\n",
      "PREV_CHANNEL_TYPE_Channel of corporate sales_MEAN--------------------- 0\n",
      "PREV_CHANNEL_TYPE_Contact center_MEAN--------------------------------- 0\n",
      "PREV_CHANNEL_TYPE_Country-wide_MEAN----------------------------------- 0\n",
      "PREV_CHANNEL_TYPE_Credit and cash offices_MEAN------------------------ 0\n",
      "PREV_CHANNEL_TYPE_Regional / Local_MEAN------------------------------- 0\n",
      "PREV_CHANNEL_TYPE_Stone_MEAN------------------------------------------ 0\n",
      "PREV_CHANNEL_TYPE_nan_MEAN-------------------------------------------- 0\n",
      "PREV_NAME_SELLER_INDUSTRY_Auto technology_MEAN------------------------ 0\n",
      "PREV_NAME_SELLER_INDUSTRY_Clothing_MEAN------------------------------- 0\n",
      "PREV_NAME_SELLER_INDUSTRY_Connectivity_MEAN--------------------------- 0\n",
      "PREV_NAME_SELLER_INDUSTRY_Construction_MEAN--------------------------- 0\n",
      "PREV_NAME_SELLER_INDUSTRY_Consumer electronics_MEAN------------------- 0\n",
      "PREV_NAME_SELLER_INDUSTRY_Furniture_MEAN------------------------------ 0\n",
      "PREV_NAME_SELLER_INDUSTRY_Industry_MEAN------------------------------- 0\n",
      "PREV_NAME_SELLER_INDUSTRY_Jewelry_MEAN-------------------------------- 0\n",
      "PREV_NAME_SELLER_INDUSTRY_MLM partners_MEAN--------------------------- 0\n",
      "PREV_NAME_SELLER_INDUSTRY_Tourism_MEAN-------------------------------- 0\n",
      "PREV_NAME_SELLER_INDUSTRY_XNA_MEAN------------------------------------ 0\n",
      "PREV_NAME_SELLER_INDUSTRY_nan_MEAN------------------------------------ 0\n",
      "PREV_NAME_YIELD_GROUP_XNA_MEAN---------------------------------------- 0\n",
      "PREV_NAME_YIELD_GROUP_high_MEAN--------------------------------------- 0\n",
      "PREV_NAME_YIELD_GROUP_low_action_MEAN--------------------------------- 0\n",
      "PREV_NAME_YIELD_GROUP_low_normal_MEAN--------------------------------- 0\n",
      "PREV_NAME_YIELD_GROUP_middle_MEAN------------------------------------- 0\n",
      "PREV_NAME_YIELD_GROUP_nan_MEAN---------------------------------------- 0\n",
      "PREV_PRODUCT_COMBINATION_Card Street_MEAN----------------------------- 0\n",
      "PREV_PRODUCT_COMBINATION_Card X-Sell_MEAN----------------------------- 0\n",
      "PREV_PRODUCT_COMBINATION_Cash_MEAN------------------------------------ 0\n",
      "PREV_PRODUCT_COMBINATION_Cash Street: high_MEAN----------------------- 0\n",
      "PREV_PRODUCT_COMBINATION_Cash Street: low_MEAN------------------------ 0\n",
      "PREV_PRODUCT_COMBINATION_Cash Street: middle_MEAN--------------------- 0\n",
      "PREV_PRODUCT_COMBINATION_Cash X-Sell: high_MEAN----------------------- 0\n",
      "PREV_PRODUCT_COMBINATION_Cash X-Sell: low_MEAN------------------------ 0\n",
      "PREV_PRODUCT_COMBINATION_Cash X-Sell: middle_MEAN--------------------- 0\n",
      "PREV_PRODUCT_COMBINATION_POS household with interest_MEAN------------- 0\n",
      "PREV_PRODUCT_COMBINATION_POS household without interest_MEAN---------- 0\n",
      "PREV_PRODUCT_COMBINATION_POS industry with interest_MEAN-------------- 0\n",
      "PREV_PRODUCT_COMBINATION_POS industry without interest_MEAN----------- 0\n",
      "PREV_PRODUCT_COMBINATION_POS mobile with interest_MEAN---------------- 0\n",
      "PREV_PRODUCT_COMBINATION_POS mobile without interest_MEAN------------- 0\n",
      "PREV_PRODUCT_COMBINATION_POS other with interest_MEAN----------------- 0\n",
      "PREV_PRODUCT_COMBINATION_POS others without interest_MEAN------------- 0\n",
      "PREV_PRODUCT_COMBINATION_nan_MEAN------------------------------------- 0\n",
      "APPROVED_AMT_ANNUITY_MIN---------------------------------------------- 0\n",
      "APPROVED_AMT_ANNUITY_MAX---------------------------------------------- 0\n",
      "APPROVED_AMT_ANNUITY_MEAN--------------------------------------------- 0\n",
      "APPROVED_AMT_APPLICATION_MIN------------------------------------------ 0\n",
      "APPROVED_AMT_APPLICATION_MAX------------------------------------------ 0\n",
      "APPROVED_AMT_APPLICATION_MEAN----------------------------------------- 0\n",
      "APPROVED_AMT_CREDIT_MIN----------------------------------------------- 0\n",
      "APPROVED_AMT_CREDIT_MAX----------------------------------------------- 0\n",
      "APPROVED_AMT_CREDIT_MEAN---------------------------------------------- 0\n",
      "APPROVED_APP_CREDIT_PERC_MIN------------------------------------------ 0\n",
      "APPROVED_APP_CREDIT_PERC_MAX------------------------------------------ 0\n",
      "APPROVED_APP_CREDIT_PERC_MEAN----------------------------------------- 0\n",
      "APPROVED_APP_CREDIT_PERC_VAR------------------------------------------ 0\n",
      "APPROVED_AMT_DOWN_PAYMENT_MIN----------------------------------------- 0\n",
      "APPROVED_AMT_DOWN_PAYMENT_MAX----------------------------------------- 0\n",
      "APPROVED_AMT_DOWN_PAYMENT_MEAN---------------------------------------- 0\n",
      "APPROVED_AMT_GOODS_PRICE_MIN------------------------------------------ 0\n",
      "APPROVED_AMT_GOODS_PRICE_MAX------------------------------------------ 0\n",
      "APPROVED_AMT_GOODS_PRICE_MEAN----------------------------------------- 0\n",
      "APPROVED_HOUR_APPR_PROCESS_START_MIN---------------------------------- 0\n",
      "APPROVED_HOUR_APPR_PROCESS_START_MAX---------------------------------- 0\n",
      "APPROVED_HOUR_APPR_PROCESS_START_MEAN--------------------------------- 0\n",
      "APPROVED_RATE_DOWN_PAYMENT_MIN---------------------------------------- 0\n",
      "APPROVED_RATE_DOWN_PAYMENT_MAX---------------------------------------- 0\n",
      "APPROVED_RATE_DOWN_PAYMENT_MEAN--------------------------------------- 0\n",
      "APPROVED_DAYS_DECISION_MIN-------------------------------------------- 0\n",
      "APPROVED_DAYS_DECISION_MAX-------------------------------------------- 0\n",
      "APPROVED_DAYS_DECISION_MEAN------------------------------------------- 0\n",
      "APPROVED_CNT_PAYMENT_MEAN--------------------------------------------- 0\n",
      "APPROVED_CNT_PAYMENT_SUM---------------------------------------------- 0\n",
      "POS_MONTHS_BALANCE_MAX------------------------------------------------ 0\n",
      "POS_MONTHS_BALANCE_MEAN----------------------------------------------- 0\n"
     ]
    },
    {
     "name": "stdout",
     "output_type": "stream",
     "text": [
      "POS_MONTHS_BALANCE_SIZE----------------------------------------------- 0\n",
      "POS_SK_DPD_MAX-------------------------------------------------------- 0\n",
      "POS_SK_DPD_MEAN------------------------------------------------------- 0\n",
      "POS_SK_DPD_DEF_MAX---------------------------------------------------- 0\n",
      "POS_SK_DPD_DEF_MEAN--------------------------------------------------- 0\n",
      "POS_NAME_CONTRACT_STATUS_Active_MEAN---------------------------------- 0\n",
      "POS_NAME_CONTRACT_STATUS_Amortized debt_MEAN-------------------------- 0\n",
      "POS_NAME_CONTRACT_STATUS_Approved_MEAN-------------------------------- 0\n",
      "POS_NAME_CONTRACT_STATUS_Canceled_MEAN-------------------------------- 0\n",
      "POS_NAME_CONTRACT_STATUS_Completed_MEAN------------------------------- 0\n",
      "POS_NAME_CONTRACT_STATUS_Demand_MEAN---------------------------------- 0\n",
      "POS_NAME_CONTRACT_STATUS_Returned to the store_MEAN------------------- 0\n",
      "POS_NAME_CONTRACT_STATUS_Signed_MEAN---------------------------------- 0\n",
      "POS_NAME_CONTRACT_STATUS_XNA_MEAN------------------------------------- 0\n",
      "POS_NAME_CONTRACT_STATUS_nan_MEAN------------------------------------- 0\n",
      "POS_COUNT------------------------------------------------------------- 0\n",
      "INSTAL_NUM_INSTALMENT_VERSION_NUNIQUE--------------------------------- 0\n",
      "INSTAL_DPD_MAX-------------------------------------------------------- 0\n",
      "INSTAL_DPD_MEAN------------------------------------------------------- 0\n",
      "INSTAL_DPD_SUM-------------------------------------------------------- 0\n",
      "INSTAL_DBD_MAX-------------------------------------------------------- 0\n",
      "INSTAL_DBD_MEAN------------------------------------------------------- 0\n",
      "INSTAL_DBD_SUM-------------------------------------------------------- 0\n",
      "INSTAL_PAYMENT_PERC_MAX----------------------------------------------- 0\n",
      "INSTAL_PAYMENT_PERC_MEAN---------------------------------------------- 0\n",
      "INSTAL_PAYMENT_PERC_SUM----------------------------------------------- 0\n",
      "INSTAL_PAYMENT_PERC_VAR----------------------------------------------- 0\n",
      "INSTAL_PAYMENT_DIFF_MAX----------------------------------------------- 0\n",
      "INSTAL_PAYMENT_DIFF_MEAN---------------------------------------------- 0\n",
      "INSTAL_PAYMENT_DIFF_SUM----------------------------------------------- 0\n",
      "INSTAL_PAYMENT_DIFF_VAR----------------------------------------------- 0\n",
      "INSTAL_AMT_INSTALMENT_MAX--------------------------------------------- 0\n",
      "INSTAL_AMT_INSTALMENT_MEAN-------------------------------------------- 0\n",
      "INSTAL_AMT_INSTALMENT_SUM--------------------------------------------- 0\n",
      "INSTAL_AMT_PAYMENT_MIN------------------------------------------------ 0\n",
      "INSTAL_AMT_PAYMENT_MAX------------------------------------------------ 0\n",
      "INSTAL_AMT_PAYMENT_MEAN----------------------------------------------- 0\n",
      "INSTAL_AMT_PAYMENT_SUM------------------------------------------------ 0\n",
      "INSTAL_DAYS_ENTRY_PAYMENT_MAX----------------------------------------- 0\n",
      "INSTAL_DAYS_ENTRY_PAYMENT_MEAN---------------------------------------- 0\n",
      "INSTAL_DAYS_ENTRY_PAYMENT_SUM----------------------------------------- 0\n",
      "INSTAL_COUNT---------------------------------------------------------- 0\n"
     ]
    }
   ],
   "source": [
    "for col in df_final.columns :\n",
    "    print(f'{col :-<70} {(df_final[col] == np.inf).sum()}')"
   ]
  },
  {
   "cell_type": "code",
   "execution_count": 36,
   "id": "fbbab599",
   "metadata": {},
   "outputs": [],
   "source": [
    "df_final_without_ID = df_final.drop('SK_ID_CURR',\n",
    "                                    axis=1)"
   ]
  },
  {
   "cell_type": "code",
   "execution_count": 256,
   "id": "82e39bc0",
   "metadata": {},
   "outputs": [],
   "source": [
    "# Nombre de classe 1 prédites\n",
    "nb_1 = df_final_without_ID['TARGET'][df_final_without_ID['TARGET'] == 1].shape[0]\n",
    "# Nombre de classe 0 prédites\n",
    "nb_0 = df_final_without_ID['TARGET'][df_final_without_ID['TARGET'] == 0].shape[0]"
   ]
  },
  {
   "cell_type": "code",
   "execution_count": 265,
   "id": "82a29f20",
   "metadata": {},
   "outputs": [
    {
     "data": {
      "image/png": "[encoded data removed]",
      "text/plain": [
       "<Figure size 800x800 with 1 Axes>"
      ]
     },
     "metadata": {},
     "output_type": "display_data"
    }
   ],
   "source": [
    "# Calcul du taux de 0, Imbalanced data rate\n",
    "plt.figure(figsize = (8, 8))\n",
    "plt.pie([nb_0,nb_1],labels=['solvable','non solvable'],autopct='%.1f%%',colors='gr')\n",
    "plt.show()"
   ]
  },
  {
   "cell_type": "markdown",
   "id": "f9bd9306",
   "metadata": {},
   "source": [
    "# Sampled data"
   ]
  },
  {
   "cell_type": "code",
   "execution_count": 39,
   "id": "397932d4",
   "metadata": {},
   "outputs": [],
   "source": [
    "# Sampler le dataset pour obtenir des temps de traitement plus raisonnable\n",
    "df_sample = df_final_without_ID.sample(frac=(1/16),\n",
    "                            random_state=42)"
   ]
  },
  {
   "cell_type": "code",
   "execution_count": 40,
   "id": "c1c4b53e",
   "metadata": {},
   "outputs": [
    {
     "data": {
      "text/plain": [
       "array([0.92, 0.08])"
      ]
     },
     "execution_count": 40,
     "metadata": {},
     "output_type": "execute_result"
    }
   ],
   "source": [
    "# Vérifier si la proportion est respectée\n",
    "df_sample.iloc[:,0].value_counts(normalize = True).round(2).unique()"
   ]
  },
  {
   "cell_type": "code",
   "execution_count": 41,
   "id": "00f245ce",
   "metadata": {},
   "outputs": [],
   "source": [
    "X_sample = df_sample.drop('TARGET',axis=1)\n",
    "y_sample = df_sample['TARGET']"
   ]
  },
  {
   "cell_type": "code",
   "execution_count": 42,
   "id": "a9c64cbe",
   "metadata": {},
   "outputs": [],
   "source": [
    "X_train_sample, X_test_sample, y_train_sample, y_test_sample = train_test_split(X_sample,\n",
    "                                                                                y_sample,\n",
    "                                                                                train_size=0.8)"
   ]
  },
  {
   "cell_type": "code",
   "execution_count": 43,
   "id": "7da66ada",
   "metadata": {},
   "outputs": [],
   "source": [
    "data_to_export = X_test_sample.join(y_test_sample)"
   ]
  },
  {
   "cell_type": "code",
   "execution_count": 44,
   "id": "c28e13d8",
   "metadata": {},
   "outputs": [
    {
     "data": {
      "text/html": [
       "<div>\n",
       "<style scoped>\n",
       "    .dataframe tbody tr th:only-of-type {\n",
       "        vertical-align: middle;\n",
       "    }\n",
       "\n",
       "    .dataframe tbody tr th {\n",
       "        vertical-align: top;\n",
       "    }\n",
       "\n",
       "    .dataframe thead th {\n",
       "        text-align: right;\n",
       "    }\n",
       "</style>\n",
       "<table border=\"1\" class=\"dataframe\">\n",
       "  <thead>\n",
       "    <tr style=\"text-align: right;\">\n",
       "      <th></th>\n",
       "      <th>NAME_CONTRACT_TYPE</th>\n",
       "      <th>CODE_GENDER</th>\n",
       "      <th>FLAG_OWN_CAR</th>\n",
       "      <th>FLAG_OWN_REALTY</th>\n",
       "      <th>CNT_CHILDREN</th>\n",
       "      <th>AMT_INCOME_TOTAL</th>\n",
       "      <th>AMT_CREDIT</th>\n",
       "      <th>AMT_ANNUITY</th>\n",
       "      <th>AMT_GOODS_PRICE</th>\n",
       "      <th>NAME_TYPE_SUITE</th>\n",
       "      <th>...</th>\n",
       "      <th>INSTAL_AMT_INSTALMENT_SUM</th>\n",
       "      <th>INSTAL_AMT_PAYMENT_MIN</th>\n",
       "      <th>INSTAL_AMT_PAYMENT_MAX</th>\n",
       "      <th>INSTAL_AMT_PAYMENT_MEAN</th>\n",
       "      <th>INSTAL_AMT_PAYMENT_SUM</th>\n",
       "      <th>INSTAL_DAYS_ENTRY_PAYMENT_MAX</th>\n",
       "      <th>INSTAL_DAYS_ENTRY_PAYMENT_MEAN</th>\n",
       "      <th>INSTAL_DAYS_ENTRY_PAYMENT_SUM</th>\n",
       "      <th>INSTAL_COUNT</th>\n",
       "      <th>TARGET</th>\n",
       "    </tr>\n",
       "  </thead>\n",
       "  <tbody>\n",
       "    <tr>\n",
       "      <th>18045</th>\n",
       "      <td>Cash loans</td>\n",
       "      <td>0</td>\n",
       "      <td>1</td>\n",
       "      <td>0</td>\n",
       "      <td>0</td>\n",
       "      <td>162000.0</td>\n",
       "      <td>472500.0</td>\n",
       "      <td>22860.0</td>\n",
       "      <td>472500.0</td>\n",
       "      <td>Family</td>\n",
       "      <td>...</td>\n",
       "      <td>NaN</td>\n",
       "      <td>NaN</td>\n",
       "      <td>NaN</td>\n",
       "      <td>NaN</td>\n",
       "      <td>NaN</td>\n",
       "      <td>NaN</td>\n",
       "      <td>NaN</td>\n",
       "      <td>NaN</td>\n",
       "      <td>NaN</td>\n",
       "      <td>1.0</td>\n",
       "    </tr>\n",
       "    <tr>\n",
       "      <th>102688</th>\n",
       "      <td>Cash loans</td>\n",
       "      <td>1</td>\n",
       "      <td>0</td>\n",
       "      <td>1</td>\n",
       "      <td>0</td>\n",
       "      <td>202500.0</td>\n",
       "      <td>1035000.0</td>\n",
       "      <td>29659.5</td>\n",
       "      <td>1035000.0</td>\n",
       "      <td>Unaccompanied</td>\n",
       "      <td>...</td>\n",
       "      <td>NaN</td>\n",
       "      <td>NaN</td>\n",
       "      <td>NaN</td>\n",
       "      <td>NaN</td>\n",
       "      <td>NaN</td>\n",
       "      <td>NaN</td>\n",
       "      <td>NaN</td>\n",
       "      <td>NaN</td>\n",
       "      <td>NaN</td>\n",
       "      <td>0.0</td>\n",
       "    </tr>\n",
       "    <tr>\n",
       "      <th>158637</th>\n",
       "      <td>Cash loans</td>\n",
       "      <td>0</td>\n",
       "      <td>1</td>\n",
       "      <td>1</td>\n",
       "      <td>0</td>\n",
       "      <td>157500.0</td>\n",
       "      <td>675000.0</td>\n",
       "      <td>26284.5</td>\n",
       "      <td>675000.0</td>\n",
       "      <td>Unaccompanied</td>\n",
       "      <td>...</td>\n",
       "      <td>17319.645</td>\n",
       "      <td>1728.765</td>\n",
       "      <td>1732.32</td>\n",
       "      <td>1731.964500</td>\n",
       "      <td>17319.645</td>\n",
       "      <td>-2506.0</td>\n",
       "      <td>-2635.30</td>\n",
       "      <td>-26353.0</td>\n",
       "      <td>10.0</td>\n",
       "      <td>0.0</td>\n",
       "    </tr>\n",
       "    <tr>\n",
       "      <th>84287</th>\n",
       "      <td>Cash loans</td>\n",
       "      <td>1</td>\n",
       "      <td>0</td>\n",
       "      <td>0</td>\n",
       "      <td>0</td>\n",
       "      <td>90000.0</td>\n",
       "      <td>298512.0</td>\n",
       "      <td>16798.5</td>\n",
       "      <td>270000.0</td>\n",
       "      <td>Unaccompanied</td>\n",
       "      <td>...</td>\n",
       "      <td>504005.445</td>\n",
       "      <td>88.200</td>\n",
       "      <td>86707.08</td>\n",
       "      <td>14641.864875</td>\n",
       "      <td>585674.595</td>\n",
       "      <td>-256.0</td>\n",
       "      <td>-1373.15</td>\n",
       "      <td>-54926.0</td>\n",
       "      <td>40.0</td>\n",
       "      <td>0.0</td>\n",
       "    </tr>\n",
       "    <tr>\n",
       "      <th>270592</th>\n",
       "      <td>Cash loans</td>\n",
       "      <td>1</td>\n",
       "      <td>1</td>\n",
       "      <td>0</td>\n",
       "      <td>1</td>\n",
       "      <td>180000.0</td>\n",
       "      <td>256500.0</td>\n",
       "      <td>25497.0</td>\n",
       "      <td>256500.0</td>\n",
       "      <td>Family</td>\n",
       "      <td>...</td>\n",
       "      <td>54098.010</td>\n",
       "      <td>5.265</td>\n",
       "      <td>6750.00</td>\n",
       "      <td>3381.125625</td>\n",
       "      <td>27049.005</td>\n",
       "      <td>-2799.0</td>\n",
       "      <td>-2839.75</td>\n",
       "      <td>-22718.0</td>\n",
       "      <td>8.0</td>\n",
       "      <td>0.0</td>\n",
       "    </tr>\n",
       "  </tbody>\n",
       "</table>\n",
       "<p>5 rows × 429 columns</p>\n",
       "</div>"
      ],
      "text/plain": [
       "       NAME_CONTRACT_TYPE  CODE_GENDER  FLAG_OWN_CAR  FLAG_OWN_REALTY  \\\n",
       "18045          Cash loans            0             1                0   \n",
       "102688         Cash loans            1             0                1   \n",
       "158637         Cash loans            0             1                1   \n",
       "84287          Cash loans            1             0                0   \n",
       "270592         Cash loans            1             1                0   \n",
       "\n",
       "        CNT_CHILDREN  AMT_INCOME_TOTAL  AMT_CREDIT  AMT_ANNUITY  \\\n",
       "18045              0          162000.0    472500.0      22860.0   \n",
       "102688             0          202500.0   1035000.0      29659.5   \n",
       "158637             0          157500.0    675000.0      26284.5   \n",
       "84287              0           90000.0    298512.0      16798.5   \n",
       "270592             1          180000.0    256500.0      25497.0   \n",
       "\n",
       "        AMT_GOODS_PRICE NAME_TYPE_SUITE  ... INSTAL_AMT_INSTALMENT_SUM  \\\n",
       "18045          472500.0          Family  ...                       NaN   \n",
       "102688        1035000.0   Unaccompanied  ...                       NaN   \n",
       "158637         675000.0   Unaccompanied  ...                 17319.645   \n",
       "84287          270000.0   Unaccompanied  ...                504005.445   \n",
       "270592         256500.0          Family  ...                 54098.010   \n",
       "\n",
       "       INSTAL_AMT_PAYMENT_MIN INSTAL_AMT_PAYMENT_MAX INSTAL_AMT_PAYMENT_MEAN  \\\n",
       "18045                     NaN                    NaN                     NaN   \n",
       "102688                    NaN                    NaN                     NaN   \n",
       "158637               1728.765                1732.32             1731.964500   \n",
       "84287                  88.200               86707.08            14641.864875   \n",
       "270592                  5.265                6750.00             3381.125625   \n",
       "\n",
       "        INSTAL_AMT_PAYMENT_SUM  INSTAL_DAYS_ENTRY_PAYMENT_MAX  \\\n",
       "18045                      NaN                            NaN   \n",
       "102688                     NaN                            NaN   \n",
       "158637               17319.645                        -2506.0   \n",
       "84287               585674.595                         -256.0   \n",
       "270592               27049.005                        -2799.0   \n",
       "\n",
       "        INSTAL_DAYS_ENTRY_PAYMENT_MEAN  INSTAL_DAYS_ENTRY_PAYMENT_SUM  \\\n",
       "18045                              NaN                            NaN   \n",
       "102688                             NaN                            NaN   \n",
       "158637                        -2635.30                       -26353.0   \n",
       "84287                         -1373.15                       -54926.0   \n",
       "270592                        -2839.75                       -22718.0   \n",
       "\n",
       "        INSTAL_COUNT  TARGET  \n",
       "18045            NaN     1.0  \n",
       "102688           NaN     0.0  \n",
       "158637          10.0     0.0  \n",
       "84287           40.0     0.0  \n",
       "270592           8.0     0.0  \n",
       "\n",
       "[5 rows x 429 columns]"
      ]
     },
     "execution_count": 44,
     "metadata": {},
     "output_type": "execute_result"
    }
   ],
   "source": [
    "data_to_export.head(5)"
   ]
  },
  {
   "cell_type": "code",
   "execution_count": 266,
   "id": "30a6f39b",
   "metadata": {},
   "outputs": [],
   "source": [
    "# Sauvegarde du test set\n",
    "path_2 = '/Users/alexandredelaguillaumie/Documents/Projet 7/Exports'\n",
    "filename = os.path.join(path_2,\n",
    "                        'sample_test_set.pickle')\n",
    "outfile = open(filename,\n",
    "               'wb')\n",
    "pickle.dump(data_to_export,\n",
    "            outfile)\n",
    "outfile.close()"
   ]
  },
  {
   "cell_type": "markdown",
   "id": "f1a0e0e1",
   "metadata": {},
   "source": [
    "# Pre-processing"
   ]
  },
  {
   "cell_type": "code",
   "execution_count": 51,
   "id": "22c0b4c5",
   "metadata": {
    "scrolled": true
   },
   "outputs": [],
   "source": [
    "numeric_features = numerical_list(X_sample)\n",
    "numeric_transformer = Pipeline(\n",
    "    steps=[(\"imputer\",\n",
    "            SimpleImputer(strategy=\"median\")),\n",
    "           (\"scaler\",\n",
    "            StandardScaler())]\n",
    ")\n",
    "\n",
    "categorical_features = categorical_list(X_sample)\n",
    "categorical_transformer = OneHotEncoder(handle_unknown=\"ignore\")\n",
    "\n",
    "preprocessor = ColumnTransformer(\n",
    "    transformers=[\n",
    "        (\"num\",\n",
    "         numeric_transformer,\n",
    "         numeric_features),\n",
    "        (\"cat\",\n",
    "         categorical_transformer,\n",
    "         categorical_features)])"
   ]
  },
  {
   "cell_type": "markdown",
   "id": "ef854047",
   "metadata": {},
   "source": [
    "# SMOTE data"
   ]
  },
  {
   "cell_type": "code",
   "execution_count": 52,
   "id": "8ae2e06d",
   "metadata": {},
   "outputs": [
    {
     "data": {
      "text/plain": [
       "ColumnTransformer(transformers=[('num',\n",
       "                                 Pipeline(steps=[('imputer',\n",
       "                                                  SimpleImputer(strategy='median')),\n",
       "                                                 ('scaler', StandardScaler())]),\n",
       "                                 ['CODE_GENDER', 'FLAG_OWN_CAR',\n",
       "                                  'FLAG_OWN_REALTY', 'CNT_CHILDREN',\n",
       "                                  'AMT_INCOME_TOTAL', 'AMT_CREDIT',\n",
       "                                  'AMT_ANNUITY', 'AMT_GOODS_PRICE',\n",
       "                                  'REGION_POPULATION_RELATIVE', 'DAYS_BIRTH',\n",
       "                                  'DAYS_EMPLOYED', 'DAYS_REGISTRATION',\n",
       "                                  'DAYS_ID_PUBLIS...\n",
       "                                  'LIVE_REGION_NOT_WORK_REGION',\n",
       "                                  'REG_CITY_NOT_LIVE_CITY',\n",
       "                                  'REG_CITY_NOT_WORK_CITY',\n",
       "                                  'LIVE_CITY_NOT_WORK_CITY', 'EXT_SOURCE_2', ...]),\n",
       "                                ('cat', OneHotEncoder(handle_unknown='ignore'),\n",
       "                                 ['NAME_CONTRACT_TYPE', 'NAME_TYPE_SUITE',\n",
       "                                  'NAME_INCOME_TYPE', 'NAME_EDUCATION_TYPE',\n",
       "                                  'NAME_FAMILY_STATUS', 'NAME_HOUSING_TYPE',\n",
       "                                  'OCCUPATION_TYPE',\n",
       "                                  'WEEKDAY_APPR_PROCESS_START',\n",
       "                                  'ORGANIZATION_TYPE'])])"
      ]
     },
     "execution_count": 52,
     "metadata": {},
     "output_type": "execute_result"
    }
   ],
   "source": [
    "preprocessor.fit(X_train_sample,y_train_sample)"
   ]
  },
  {
   "cell_type": "code",
   "execution_count": 54,
   "id": "84dde291",
   "metadata": {},
   "outputs": [],
   "source": [
    "X_train_prepro = preprocessor.transform(X_train_sample)\n",
    "X_train_prepro = pd.DataFrame(X_train_prepro,columns=column_names(X_train_sample))"
   ]
  },
  {
   "cell_type": "code",
   "execution_count": 55,
   "id": "30b06c04",
   "metadata": {},
   "outputs": [
    {
     "data": {
      "text/plain": [
       "array([dtype('float64')], dtype=object)"
      ]
     },
     "execution_count": 55,
     "metadata": {},
     "output_type": "execute_result"
    }
   ],
   "source": [
    "X_train_prepro.dtypes.unique()"
   ]
  },
  {
   "cell_type": "code",
   "execution_count": 57,
   "id": "492ac1f8",
   "metadata": {
    "scrolled": false
   },
   "outputs": [],
   "source": [
    "X_test_prepro = preprocessor.transform(X_test_sample)\n",
    "X_test_prepro = pd.DataFrame(X_test_prepro,columns=column_names(X_train_sample))"
   ]
  },
  {
   "cell_type": "code",
   "execution_count": 58,
   "id": "8ba5cc25",
   "metadata": {},
   "outputs": [
    {
     "data": {
      "text/plain": [
       "array([dtype('float64')], dtype=object)"
      ]
     },
     "execution_count": 58,
     "metadata": {},
     "output_type": "execute_result"
    }
   ],
   "source": [
    "X_test_prepro.dtypes.unique()"
   ]
  },
  {
   "cell_type": "code",
   "execution_count": 59,
   "id": "00dc2e3b",
   "metadata": {},
   "outputs": [],
   "source": [
    "smote = SMOTE(random_state=42,\n",
    "              sampling_strategy='minority')\n",
    "X_train_sm, y_train_sm = smote.fit_resample(X_train_prepro, y_train_sample)"
   ]
  },
  {
   "cell_type": "code",
   "execution_count": 60,
   "id": "1eb96695",
   "metadata": {
    "scrolled": true
   },
   "outputs": [
    {
     "name": "stdout",
     "output_type": "stream",
     "text": [
      "Prêt octroyé avant SMOTE: 14098\n",
      "Prêt non octroyé avant SMOTE: 1277\n"
     ]
    }
   ],
   "source": [
    "print('Prêt octroyé avant SMOTE: {}'.format(y_train_sample[y_train_sample == 0].shape[0]))\n",
    "print('Prêt non octroyé avant SMOTE: {}'.format(y_train_sample[y_train_sample == 1].shape[0]))"
   ]
  },
  {
   "cell_type": "code",
   "execution_count": 62,
   "id": "2d9517f2",
   "metadata": {
    "scrolled": false
   },
   "outputs": [
    {
     "name": "stdout",
     "output_type": "stream",
     "text": [
      "Prêt octroyé après SMOTE: 14098\n",
      "Prêt non octroyé après SMOTE: 14098\n"
     ]
    }
   ],
   "source": [
    "print('Prêt octroyé après SMOTE: {}'.format(y_train_sm[y_train_sm == 0].shape[0]))\n",
    "print('Prêt non octroyé après SMOTE: {}'.format(y_train_sm[y_train_sm == 1].shape[0]))"
   ]
  },
  {
   "cell_type": "markdown",
   "id": "cb50ff0a",
   "metadata": {},
   "source": [
    "# Random Under Sampling (RUS) data"
   ]
  },
  {
   "cell_type": "code",
   "execution_count": 63,
   "id": "07274839",
   "metadata": {},
   "outputs": [],
   "source": [
    "# Applique SMOTE aux imbalanced data\n",
    "sm = RandomUnderSampler(random_state=42,\n",
    "           sampling_strategy='majority')\n",
    "X_train_rus,y_train_rus = sm.fit_resample(X_train_prepro,y_train_sample)"
   ]
  },
  {
   "cell_type": "code",
   "execution_count": 64,
   "id": "0bbe7a05",
   "metadata": {},
   "outputs": [
    {
     "name": "stdout",
     "output_type": "stream",
     "text": [
      "Prêt octroyé avant RUS: 14098\n",
      "Prêt non octroyé avant RUS: 1277\n"
     ]
    }
   ],
   "source": [
    "print('Prêt octroyé avant RUS: {}'.format(y_train_sample[y_train_sample == 0].shape[0]))\n",
    "print('Prêt non octroyé avant RUS: {}'.format(y_train_sample[y_train_sample == 1].shape[0]))"
   ]
  },
  {
   "cell_type": "code",
   "execution_count": 65,
   "id": "ab91a0a5",
   "metadata": {
    "scrolled": true
   },
   "outputs": [
    {
     "name": "stdout",
     "output_type": "stream",
     "text": [
      "Prêt octroyé après RUS: 1277\n",
      "Prêt non octroyé après RUS: 1277\n"
     ]
    }
   ],
   "source": [
    "print('Prêt octroyé après RUS: {}'.format(y_train_rus[y_train_rus == 0].shape[0]))\n",
    "print('Prêt non octroyé après RUS: {}'.format(y_train_rus[y_train_rus == 1].shape[0]))"
   ]
  },
  {
   "cell_type": "markdown",
   "id": "e612b2aa",
   "metadata": {},
   "source": [
    "# Modeling"
   ]
  },
  {
   "cell_type": "code",
   "execution_count": 66,
   "id": "82a4ec15",
   "metadata": {},
   "outputs": [],
   "source": [
    "metier = metrics.make_scorer(eva_func,greater_is_better=True)"
   ]
  },
  {
   "cell_type": "code",
   "execution_count": 67,
   "id": "d4ffd49d",
   "metadata": {
    "scrolled": true
   },
   "outputs": [],
   "source": [
    "numeric_features = numerical_list(X_sample)\n",
    "numeric_transformer = Pipeline(\n",
    "    steps=[(\"imputer\",\n",
    "            SimpleImputer(strategy=\"median\")),\n",
    "           (\"scaler\",\n",
    "            StandardScaler())]\n",
    ")\n",
    "\n",
    "categorical_features = categorical_list(X_sample)\n",
    "categorical_transformer = OneHotEncoder(handle_unknown=\"ignore\")\n",
    "\n",
    "preprocessor = ColumnTransformer(\n",
    "    transformers=[\n",
    "        (\"num\",\n",
    "         numeric_transformer,\n",
    "         numeric_features),\n",
    "        (\"cat\",\n",
    "         categorical_transformer,\n",
    "         categorical_features)])"
   ]
  },
  {
   "cell_type": "code",
   "execution_count": 534,
   "id": "3348556c",
   "metadata": {},
   "outputs": [],
   "source": [
    "# permits to test different sampling strategies\n",
    "def model_dummy(X_train_, X_test_, y_train_, y_test_):\n",
    "    # set the path where it is stored\n",
    "    mlflow.set_tracking_uri(\"http://127.0.0.1:5000\")\n",
    "    # set the name of the experiment folder\n",
    "    mlflow.set_experiment('Dummy Models')\n",
    "    # initialise counting time\n",
    "    time1 = time.time()\n",
    "    # executed as a script\n",
    "    if __name__ == \"__main__\":\n",
    "        warnings.filterwarnings(\"ignore\")\n",
    "        np.random.seed(42)\n",
    "        # give the run a name\n",
    "        with mlflow.start_run(run_name='dummy/test') as run:\n",
    "            # empty model\n",
    "            cls = DummyClassifier()\n",
    "            \n",
    "            # fit to a certain data\n",
    "            cls.fit(X_train_,\n",
    "                    y_train_)\n",
    "            # displays best params\n",
    "            print(\"Best params : \\n\",\n",
    "                  cls.get_params)\n",
    "            # displays best score\n",
    "            print(\"model score: %.3f\" % cls.score(X_test_, y_test_))\n",
    "            time2 = np.round(time.time() \n",
    "                             - time1,0)\n",
    "            # gives timecode\n",
    "            print(\"time : \",\n",
    "                  time2)\n",
    "            # predict a class with test data\n",
    "            y_pred = cls.predict(X_test_)\n",
    "            # return all metrics\n",
    "            eval_metrics(y_test_,y_pred)\n",
    "            # stores metrics into mlflow\n",
    "            for name,score in zip(eval_metrics(y_test_,\n",
    "                                               y_pred).keys(),\n",
    "                                  eval_metrics(y_test_,\n",
    "                                               y_pred).values()):\n",
    "                mlflow.log_metric(name,\n",
    "                                  score)\n",
    "            # type of storage\n",
    "            tracking_url_type_store = urlparse(mlflow.get_tracking_uri()).scheme\n",
    "\n",
    "            # Model registry does not work with file store\n",
    "            if tracking_url_type_store != \"file\":\n",
    "                mlflow.sklearn.log_model(cls,\n",
    "                                         'dummy',\n",
    "                                         registered_model_name=\"CreditModels\")\n",
    "            else:\n",
    "                mlflow.sklearn.log_model(cls,\n",
    "                                         'dummy')"
   ]
  },
  {
   "cell_type": "code",
   "execution_count": 532,
   "id": "0503cec9",
   "metadata": {},
   "outputs": [
    {
     "name": "stdout",
     "output_type": "stream",
     "text": [
      "Best params : \n",
      " <bound method BaseEstimator.get_params of DummyClassifier()>\n",
      "model score: 0.918\n",
      "time :  0.0\n"
     ]
    },
    {
     "name": "stderr",
     "output_type": "stream",
     "text": [
      "Registered model 'CreditModels' already exists. Creating a new version of this model...\n",
      "Created version '24' of model 'CreditModels'.\n"
     ]
    }
   ],
   "source": [
    "# Imbalanced data\n",
    "model_dummy(X_train_prepro, X_test_prepro, y_train_sample, y_test_sample)"
   ]
  },
  {
   "cell_type": "code",
   "execution_count": 533,
   "id": "1e4bcab0",
   "metadata": {
    "scrolled": true
   },
   "outputs": [
    {
     "name": "stdout",
     "output_type": "stream",
     "text": [
      "Best params : \n",
      " <bound method BaseEstimator.get_params of DummyClassifier()>\n",
      "model score: 0.918\n",
      "time :  0.0\n"
     ]
    },
    {
     "name": "stderr",
     "output_type": "stream",
     "text": [
      "Registered model 'CreditModels' already exists. Creating a new version of this model...\n",
      "Created version '25' of model 'CreditModels'.\n"
     ]
    }
   ],
   "source": [
    "# Oversampling (SMOTE)\n",
    "model_dummy(X_train_sm, X_test_prepro, y_train_sm, y_test_sample)"
   ]
  },
  {
   "cell_type": "code",
   "execution_count": 535,
   "id": "e5ea3922",
   "metadata": {},
   "outputs": [
    {
     "name": "stdout",
     "output_type": "stream",
     "text": [
      "Best params : \n",
      " <bound method BaseEstimator.get_params of DummyClassifier()>\n",
      "model score: 0.918\n",
      "time :  0.0\n"
     ]
    },
    {
     "name": "stderr",
     "output_type": "stream",
     "text": [
      "Registered model 'CreditModels' already exists. Creating a new version of this model...\n",
      "Created version '26' of model 'CreditModels'.\n"
     ]
    }
   ],
   "source": [
    "# Undersampling (RUS)\n",
    "model_dummy(X_train_rus, X_test_prepro, y_train_rus, y_test_sample)"
   ]
  },
  {
   "cell_type": "code",
   "execution_count": 563,
   "id": "ca8b1bc1",
   "metadata": {},
   "outputs": [],
   "source": [
    "# permits to test different sampling strategies\n",
    "def model_dummy_rand(X_train_, X_test_, y_train_, y_test_):\n",
    "    # set the path where it is stored\n",
    "    mlflow.set_tracking_uri(\"http://127.0.0.1:5000\")\n",
    "    # set the name of the experiment folder\n",
    "    mlflow.set_experiment('Dummy Models')\n",
    "    # initialise counting time\n",
    "    time1 = time.time()\n",
    "    # executed as a script\n",
    "    if __name__ == \"__main__\":\n",
    "        warnings.filterwarnings(\"ignore\")\n",
    "        np.random.seed(42)\n",
    "        # give the run a name\n",
    "        with mlflow.start_run(run_name='dummy/uniform') as run:\n",
    "            # empty model\n",
    "            cls = DummyClassifier(strategy='uniform')\n",
    "            \n",
    "            # fit to a certain data\n",
    "            cls.fit(X_train_,\n",
    "                    y_train_)\n",
    "            # displays best params\n",
    "            print(\"Best params : \\n\",\n",
    "                  cls.get_params)\n",
    "            # displays best score\n",
    "            print(\"model score: %.3f\" % cls.score(X_test_, y_test_))\n",
    "            time2 = np.round(time.time() \n",
    "                             - time1,0)\n",
    "            # gives timecode\n",
    "            print(\"time : \",\n",
    "                  time2)\n",
    "            # predict a class with test data\n",
    "            y_pred = cls.predict(X_test_)\n",
    "            # return all metrics\n",
    "            eval_metrics(y_test_,y_pred)\n",
    "            # stores metrics into mlflow\n",
    "            for name,score in zip(eval_metrics(y_test_,\n",
    "                                               y_pred).keys(),\n",
    "                                  eval_metrics(y_test_,\n",
    "                                               y_pred).values()):\n",
    "                mlflow.log_metric(name,\n",
    "                                  score)\n",
    "            # type of storage\n",
    "            tracking_url_type_store = urlparse(mlflow.get_tracking_uri()).scheme\n",
    "\n",
    "            # Model registry does not work with file store\n",
    "            if tracking_url_type_store != \"file\":\n",
    "                mlflow.sklearn.log_model(cls,\n",
    "                                         'dummy',\n",
    "                                         registered_model_name=\"CreditModels\")\n",
    "            else:\n",
    "                mlflow.sklearn.log_model(cls,\n",
    "                                         'dummy')"
   ]
  },
  {
   "cell_type": "code",
   "execution_count": 564,
   "id": "e7cb0308",
   "metadata": {},
   "outputs": [
    {
     "name": "stdout",
     "output_type": "stream",
     "text": [
      "Best params : \n",
      " <bound method BaseEstimator.get_params of DummyClassifier(strategy='uniform')>\n",
      "model score: 0.502\n",
      "time :  0.0\n"
     ]
    },
    {
     "name": "stderr",
     "output_type": "stream",
     "text": [
      "Registered model 'CreditModels' already exists. Creating a new version of this model...\n",
      "Created version '40' of model 'CreditModels'.\n"
     ]
    }
   ],
   "source": [
    "# Imbalanced data\n",
    "model_dummy_rand(X_train_prepro, X_test_prepro, y_train_sample, y_test_sample)"
   ]
  },
  {
   "cell_type": "code",
   "execution_count": 565,
   "id": "6c1dc506",
   "metadata": {
    "scrolled": true
   },
   "outputs": [
    {
     "name": "stdout",
     "output_type": "stream",
     "text": [
      "Best params : \n",
      " <bound method BaseEstimator.get_params of DummyClassifier(strategy='uniform')>\n",
      "model score: 0.502\n",
      "time :  0.0\n"
     ]
    },
    {
     "name": "stderr",
     "output_type": "stream",
     "text": [
      "Registered model 'CreditModels' already exists. Creating a new version of this model...\n",
      "Created version '41' of model 'CreditModels'.\n"
     ]
    }
   ],
   "source": [
    "# Oversampling (SMOTE)\n",
    "model_dummy_rand(X_train_sm, X_test_prepro, y_train_sm, y_test_sample)"
   ]
  },
  {
   "cell_type": "code",
   "execution_count": 566,
   "id": "cd21c34e",
   "metadata": {},
   "outputs": [
    {
     "name": "stdout",
     "output_type": "stream",
     "text": [
      "Best params : \n",
      " <bound method BaseEstimator.get_params of DummyClassifier(strategy='uniform')>\n",
      "model score: 0.502\n",
      "time :  0.0\n"
     ]
    },
    {
     "name": "stderr",
     "output_type": "stream",
     "text": [
      "Registered model 'CreditModels' already exists. Creating a new version of this model...\n",
      "Created version '42' of model 'CreditModels'.\n"
     ]
    }
   ],
   "source": [
    "# Undersampling (RUS)\n",
    "model_dummy_rand(X_train_rus, X_test_prepro, y_train_rus, y_test_sample)"
   ]
  },
  {
   "cell_type": "code",
   "execution_count": 542,
   "id": "a5858ac0",
   "metadata": {},
   "outputs": [],
   "source": [
    "# permits to test different sampling strategies\n",
    "def model_lr(X_train_, X_test_, y_train_, y_test_):\n",
    "    \n",
    "    # params for LogisticRegression\n",
    "    param_grid_lr = [\n",
    "    {'solver': ['lbfgs'],\n",
    "     'C': np.logspace(.5,7.5,8),\n",
    "     'penalty': ['none']\n",
    "    }]\n",
    "    # set the path where it is stored\n",
    "    mlflow.set_tracking_uri(\"http://127.0.0.1:5000\")\n",
    "    # set the name of the experiment folder\n",
    "    mlflow.set_experiment('LogReg Models')\n",
    "    # initialise counting time\n",
    "    time1 = time.time()\n",
    "    # executed as a script\n",
    "    if __name__ == \"__main__\":\n",
    "        warnings.filterwarnings(\"ignore\")\n",
    "        np.random.seed(42)\n",
    "        # give the run a name\n",
    "        with mlflow.start_run(run_name='logistic_regression/sample') as run:\n",
    "            # empty model\n",
    "            cls = LogisticRegression()\n",
    "            \n",
    "            # hyperparams tuning\n",
    "            grid_lr = GridSearchCV(estimator=cls,\n",
    "                                   param_grid=param_grid_lr,\n",
    "                                   return_train_score = True,\n",
    "                                   error_score='raise',\n",
    "                                   scoring=metier,\n",
    "                                   cv =5)\n",
    "            # fit to a certain data\n",
    "            grid_lr.fit(X_train_,\n",
    "                        y_train_)\n",
    "            # displays best params\n",
    "            print(\"Best params : \\n\",\n",
    "                  grid_lr.best_params_)\n",
    "            # displays best score\n",
    "            print(\"model score: %.3f\" % grid_lr.score(X_test_, \n",
    "                                                      y_test_))\n",
    "            time2 = np.round(time.time() \n",
    "                             - time1,0)\n",
    "            # gives timecode\n",
    "            print(\"time : \",\n",
    "                  time2)\n",
    "            # predict a class with test data\n",
    "            y_pred = grid_lr.predict(X_test_)\n",
    "            # return all metrics\n",
    "            eval_metrics(y_test_,y_pred)\n",
    "            # stores metrics into mlflow\n",
    "            for name,score in zip(eval_metrics(y_test_,\n",
    "                                               y_pred).keys(),\n",
    "                                  eval_metrics(y_test_,\n",
    "                                               y_pred).values()):\n",
    "                mlflow.log_metric(name,\n",
    "                                  score)\n",
    "            # stores params into mlflow\n",
    "            for k,v in zip(grid_lr.best_params_.keys(),\n",
    "                           grid_lr.best_params_.values()):\n",
    "                mlflow.log_param(k,\n",
    "                                 v)\n",
    "            # type of storage\n",
    "            tracking_url_type_store = urlparse(mlflow.get_tracking_uri()).scheme\n",
    "\n",
    "            # Model registry does not work with file store\n",
    "            if tracking_url_type_store != \"file\":\n",
    "                mlflow.sklearn.log_model(grid_lr,\n",
    "                                         'lr',\n",
    "                                         registered_model_name=\"CreditModels\")\n",
    "            else:\n",
    "                mlflow.sklearn.log_model(grid_lr,\n",
    "                                         'lr')"
   ]
  },
  {
   "cell_type": "code",
   "execution_count": 547,
   "id": "4f8eeb0e",
   "metadata": {
    "scrolled": true
   },
   "outputs": [
    {
     "name": "stdout",
     "output_type": "stream",
     "text": [
      "Best params : \n",
      " {'C': 3.1622776601683795, 'penalty': 'none', 'solver': 'lbfgs'}\n",
      "model score: 0.567\n",
      "time :  36.0\n"
     ]
    },
    {
     "name": "stderr",
     "output_type": "stream",
     "text": [
      "Registered model 'CreditModels' already exists. Creating a new version of this model...\n",
      "Created version '30' of model 'CreditModels'.\n"
     ]
    }
   ],
   "source": [
    "# Imbalanced data\n",
    "model_lr(X_train_prepro, X_test_prepro, y_train_sample, y_test_sample)"
   ]
  },
  {
   "cell_type": "code",
   "execution_count": 545,
   "id": "935a4c65",
   "metadata": {},
   "outputs": [
    {
     "name": "stdout",
     "output_type": "stream",
     "text": [
      "Best params : \n",
      " {'C': 3.1622776601683795, 'penalty': 'none', 'solver': 'lbfgs'}\n",
      "model score: 0.657\n",
      "time :  74.0\n"
     ]
    },
    {
     "name": "stderr",
     "output_type": "stream",
     "text": [
      "Registered model 'CreditModels' already exists. Creating a new version of this model...\n",
      "Created version '28' of model 'CreditModels'.\n"
     ]
    }
   ],
   "source": [
    "# Oversampling (SMOTE)\n",
    "model_lr(X_train_sm, X_test_prepro, y_train_sm, y_test_sample)"
   ]
  },
  {
   "cell_type": "code",
   "execution_count": 546,
   "id": "1a7008c6",
   "metadata": {},
   "outputs": [
    {
     "name": "stdout",
     "output_type": "stream",
     "text": [
      "Best params : \n",
      " {'C': 3.1622776601683795, 'penalty': 'none', 'solver': 'lbfgs'}\n",
      "model score: 0.659\n",
      "time :  11.0\n"
     ]
    },
    {
     "name": "stderr",
     "output_type": "stream",
     "text": [
      "Registered model 'CreditModels' already exists. Creating a new version of this model...\n",
      "Created version '29' of model 'CreditModels'.\n"
     ]
    }
   ],
   "source": [
    "# Undersampling (RUS)\n",
    "model_lr(X_train_rus, X_test_prepro, y_train_rus, y_test_sample)"
   ]
  },
  {
   "cell_type": "code",
   "execution_count": 548,
   "id": "4e06d164",
   "metadata": {},
   "outputs": [],
   "source": [
    "# permits to test different sampling strategies\n",
    "def model_knn(X_train_, X_test_, y_train_, y_test_):\n",
    "    name='knn'\n",
    "    # params for NearestNeighbors\n",
    "    param_grid = [\n",
    "    {'n_neighbors': np.logspace(2,3,8).astype('int')\n",
    "    }]\n",
    "    # set the path where it is stored\n",
    "    mlflow.set_tracking_uri(\"http://127.0.0.1:5000\")\n",
    "    # set the name of the experiment folder\n",
    "    mlflow.set_experiment('KNeighbors Models')\n",
    "    # initialise counting time\n",
    "    time1 = time.time()\n",
    "    # executed as a script\n",
    "    if __name__ == \"__main__\":\n",
    "        warnings.filterwarnings(\"ignore\")\n",
    "        np.random.seed(42)\n",
    "        # give the run a name\n",
    "        with mlflow.start_run(run_name=name) as run:\n",
    "            # empty model\n",
    "            cls = KNeighborsClassifier()\n",
    "            \n",
    "            # hyperparams tuning\n",
    "            grid = GridSearchCV(estimator=cls,\n",
    "                                param_grid=param_grid,\n",
    "                                return_train_score = True,\n",
    "                                error_score='raise',\n",
    "                                scoring=metier,\n",
    "                                cv =5)\n",
    "            # fit to a certain data\n",
    "            grid.fit(X_train_,\n",
    "                     y_train_)\n",
    "            # displays best params\n",
    "            print(\"Best params : \\n\",\n",
    "                  grid.best_params_)\n",
    "            # displays best score\n",
    "            print(\"model score: %.3f\" % grid.score(X_test_,\n",
    "                                                   y_test_))\n",
    "            time2 = np.round(time.time() \n",
    "                             - time1,0)\n",
    "            # gives timecode\n",
    "            print(\"time : \",\n",
    "                  time2)\n",
    "            # predict a class with test data\n",
    "            y_pred = grid.predict(X_test_)\n",
    "            # return all metrics\n",
    "            eval_metrics(y_test_,y_pred)\n",
    "            # stores metrics into mlflow\n",
    "            for k,v in zip(eval_metrics(y_test_,y_pred).keys(),\n",
    "                                  eval_metrics(y_test_,y_pred).values()):\n",
    "                mlflow.log_metric(k,v)\n",
    "            # stores params into mlflow\n",
    "            for k,v in zip(grid.best_params_.keys(),\n",
    "                           grid.best_params_.values()):\n",
    "                mlflow.log_param(k,v)\n",
    "            # type of storage\n",
    "            tracking_url_type_store = urlparse(mlflow.get_tracking_uri()).scheme\n",
    "\n",
    "            # Model registry does not work with file store\n",
    "            if tracking_url_type_store != \"file\":\n",
    "                mlflow.sklearn.log_model(grid,\n",
    "                                         name,\n",
    "                                         registered_model_name=\"CreditModels\")\n",
    "            else:\n",
    "                mlflow.sklearn.log_model(grid,\n",
    "                                         name)"
   ]
  },
  {
   "cell_type": "code",
   "execution_count": 549,
   "id": "1ae4a5af",
   "metadata": {
    "scrolled": false
   },
   "outputs": [
    {
     "name": "stdout",
     "output_type": "stream",
     "text": [
      "Best params : \n",
      " {'n_neighbors': 100}\n",
      "model score: 0.529\n",
      "time :  389.0\n"
     ]
    },
    {
     "name": "stderr",
     "output_type": "stream",
     "text": [
      "Registered model 'CreditModels' already exists. Creating a new version of this model...\n",
      "Created version '31' of model 'CreditModels'.\n"
     ]
    }
   ],
   "source": [
    "# Imbalanced data\n",
    "model_knn(X_train_prepro, X_test_prepro, y_train_sample, y_test_sample)"
   ]
  },
  {
   "cell_type": "code",
   "execution_count": 550,
   "id": "473a5fdf",
   "metadata": {},
   "outputs": [
    {
     "name": "stdout",
     "output_type": "stream",
     "text": [
      "Best params : \n",
      " {'n_neighbors': 1000}\n",
      "model score: 0.476\n",
      "time :  1236.0\n"
     ]
    },
    {
     "name": "stderr",
     "output_type": "stream",
     "text": [
      "Registered model 'CreditModels' already exists. Creating a new version of this model...\n",
      "Created version '32' of model 'CreditModels'.\n"
     ]
    }
   ],
   "source": [
    "# Oversampling (SMOTE)\n",
    "model_knn(X_train_sm, X_test_prepro, y_train_sm, y_test_sample)"
   ]
  },
  {
   "cell_type": "code",
   "execution_count": 551,
   "id": "6fd5a5b9",
   "metadata": {},
   "outputs": [
    {
     "name": "stdout",
     "output_type": "stream",
     "text": [
      "Best params : \n",
      " {'n_neighbors': 719}\n",
      "model score: 0.618\n",
      "time :  31.0\n"
     ]
    },
    {
     "name": "stderr",
     "output_type": "stream",
     "text": [
      "Registered model 'CreditModels' already exists. Creating a new version of this model...\n",
      "Created version '33' of model 'CreditModels'.\n"
     ]
    }
   ],
   "source": [
    "# Undersampling (RUS)\n",
    "model_knn(X_train_rus, X_test_prepro, y_train_rus, y_test_sample)"
   ]
  },
  {
   "cell_type": "code",
   "execution_count": 552,
   "id": "091e33cd",
   "metadata": {},
   "outputs": [],
   "source": [
    "# permits to test different sampling strategies\n",
    "def model_rf(X_train_, X_test_, y_train_, y_test_):\n",
    "    name='rf'\n",
    "    # params for RandomForestClassifier\n",
    "    param_grid = [\n",
    "    {'n_estimators': [900,1000],\n",
    "     'max_depth':  [7,9],\n",
    "     'min_samples_split': [10,11]\n",
    "    }]\n",
    "    # set the path where it is stored\n",
    "    mlflow.set_tracking_uri(\"http://127.0.0.1:5000\")\n",
    "    # set the name of the experiment folder\n",
    "    mlflow.set_experiment('RandomF Models')\n",
    "    # initialise counting time\n",
    "    time1 = time.time()\n",
    "    # executed as a script\n",
    "    if __name__ == \"__main__\":\n",
    "        warnings.filterwarnings(\"ignore\")\n",
    "        np.random.seed(42)\n",
    "        # give the run a name\n",
    "        with mlflow.start_run(run_name=name) as run:\n",
    "            # empty model\n",
    "            cls = RandomForestClassifier()\n",
    "            \n",
    "            # hyperparams tuning\n",
    "            grid = GridSearchCV(estimator=cls,\n",
    "                                param_grid=param_grid,\n",
    "                                return_train_score = True,\n",
    "                                error_score='raise',\n",
    "                                scoring=metier,\n",
    "                                cv =5)\n",
    "            # fit to a certain data\n",
    "            grid.fit(X_train_,\n",
    "                     y_train_)\n",
    "            # displays best params\n",
    "            print(\"Best params : \\n\",\n",
    "                  grid.best_params_)\n",
    "            # displays best score\n",
    "            print(\"model score: %.3f\" % grid.score(X_test_,\n",
    "                                                   y_test_))\n",
    "            time2 = np.round(time.time() \n",
    "                             - time1,0)\n",
    "            # gives timecode\n",
    "            print(\"time : \",\n",
    "                  time2)\n",
    "            # predict a class with test data\n",
    "            y_pred = grid.predict(X_test_)\n",
    "            # return all metrics\n",
    "            eval_metrics(y_test_,y_pred)\n",
    "            # stores metrics into mlflow\n",
    "            for k,v in zip(eval_metrics(y_test_,y_pred).keys(),\n",
    "                                  eval_metrics(y_test_,y_pred).values()):\n",
    "                mlflow.log_metric(k,v)\n",
    "            # stores params into mlflow\n",
    "            for k,v in zip(grid.best_params_.keys(),\n",
    "                           grid.best_params_.values()):\n",
    "                mlflow.log_param(k,v)\n",
    "            # type of storage\n",
    "            tracking_url_type_store = urlparse(mlflow.get_tracking_uri()).scheme\n",
    "\n",
    "            # Model registry does not work with file store\n",
    "            if tracking_url_type_store != \"file\":\n",
    "                mlflow.sklearn.log_model(grid,\n",
    "                                         name,\n",
    "                                         registered_model_name=\"CreditModels\")\n",
    "            else:\n",
    "                mlflow.sklearn.log_model(grid,\n",
    "                                         name)"
   ]
  },
  {
   "cell_type": "code",
   "execution_count": 553,
   "id": "4add0ca7",
   "metadata": {
    "scrolled": true
   },
   "outputs": [
    {
     "name": "stdout",
     "output_type": "stream",
     "text": [
      "Best params : \n",
      " {'max_depth': 7, 'min_samples_split': 10, 'n_estimators': 900}\n",
      "model score: 0.529\n",
      "time :  2457.0\n"
     ]
    },
    {
     "name": "stderr",
     "output_type": "stream",
     "text": [
      "Registered model 'CreditModels' already exists. Creating a new version of this model...\n",
      "Created version '34' of model 'CreditModels'.\n"
     ]
    }
   ],
   "source": [
    "# Imbalanced data\n",
    "model_rf(X_train_prepro, X_test_prepro, y_train_sample, y_test_sample)"
   ]
  },
  {
   "cell_type": "code",
   "execution_count": 554,
   "id": "ef8bd856",
   "metadata": {},
   "outputs": [
    {
     "name": "stdout",
     "output_type": "stream",
     "text": [
      "Best params : \n",
      " {'max_depth': 9, 'min_samples_split': 11, 'n_estimators': 900}\n",
      "model score: 0.574\n",
      "time :  3470.0\n"
     ]
    },
    {
     "name": "stderr",
     "output_type": "stream",
     "text": [
      "Registered model 'CreditModels' already exists. Creating a new version of this model...\n",
      "Created version '35' of model 'CreditModels'.\n"
     ]
    }
   ],
   "source": [
    "# Oversampling (SMOTE)\n",
    "model_rf(X_train_sm, X_test_prepro, y_train_sm, y_test_sample)"
   ]
  },
  {
   "cell_type": "code",
   "execution_count": 555,
   "id": "a3b3cfd8",
   "metadata": {},
   "outputs": [
    {
     "name": "stdout",
     "output_type": "stream",
     "text": [
      "Best params : \n",
      " {'max_depth': 9, 'min_samples_split': 10, 'n_estimators': 900}\n",
      "model score: 0.677\n",
      "time :  262.0\n"
     ]
    },
    {
     "name": "stderr",
     "output_type": "stream",
     "text": [
      "Registered model 'CreditModels' already exists. Creating a new version of this model...\n",
      "Created version '36' of model 'CreditModels'.\n"
     ]
    }
   ],
   "source": [
    "# Undersampling (RUS)\n",
    "model_rf(X_train_rus, X_test_prepro, y_train_rus, y_test_sample)"
   ]
  },
  {
   "cell_type": "code",
   "execution_count": 556,
   "id": "8a079803",
   "metadata": {},
   "outputs": [],
   "source": [
    "# permits to test different sampling strategies\n",
    "def model_xgb(X_train_, X_test_, y_train_, y_test_):\n",
    "    name='xgb'\n",
    "    # params for XGBClassifier\n",
    "    param_grid = [\n",
    "    {'n_estimators': [100,200],\n",
    "     'max_depth': [3,4,5],\n",
    "     'learning_rate': [0.05,.04]\n",
    "    }]\n",
    "    # set the path where it is stored\n",
    "    mlflow.set_tracking_uri(\"http://127.0.0.1:5000\")\n",
    "    # set the name of the experiment folder\n",
    "    mlflow.set_experiment('XGBoost Models')\n",
    "    # initialise counting time\n",
    "    time1 = time.time()\n",
    "    # executed as a script\n",
    "    if __name__ == \"__main__\":\n",
    "        warnings.filterwarnings(\"ignore\")\n",
    "        np.random.seed(42)\n",
    "        # give the run a name\n",
    "        with mlflow.start_run(run_name=name) as run:\n",
    "            # empty model\n",
    "            cls = XGBClassifier()\n",
    "            \n",
    "            # hyperparams tuning\n",
    "            grid = GridSearchCV(estimator=cls,\n",
    "                                param_grid=param_grid,\n",
    "                                return_train_score = True,\n",
    "                                error_score='raise',\n",
    "                                scoring=metier,\n",
    "                                cv =5)\n",
    "            # fit to a certain data\n",
    "            grid.fit(X_train_,\n",
    "                     y_train_)\n",
    "            # displays best params\n",
    "            print(\"Best params : \\n\",\n",
    "                  grid.best_params_)\n",
    "            # displays best score\n",
    "            print(\"model score: %.3f\" % grid.score(X_test_,\n",
    "                                                   y_test_))\n",
    "            time2 = np.round(time.time() \n",
    "                             - time1,0)\n",
    "            # gives timecode\n",
    "            print(\"time : \",\n",
    "                  time2)\n",
    "            # predict a class with test data\n",
    "            y_pred = grid.predict(X_test_)\n",
    "            # return all metrics\n",
    "            eval_metrics(y_test_,y_pred)\n",
    "            # stores metrics into mlflow\n",
    "            for k,v in zip(eval_metrics(y_test_,y_pred).keys(),\n",
    "                                  eval_metrics(y_test_,y_pred).values()):\n",
    "                mlflow.log_metric(k,v)\n",
    "            # stores params into mlflow\n",
    "            for k,v in zip(grid.best_params_.keys(),\n",
    "                           grid.best_params_.values()):\n",
    "                mlflow.log_param(k,v)\n",
    "            # type of storage\n",
    "            tracking_url_type_store = urlparse(mlflow.get_tracking_uri()).scheme\n",
    "\n",
    "            # Model registry does not work with file store\n",
    "            if tracking_url_type_store != \"file\":\n",
    "                mlflow.sklearn.log_model(grid,\n",
    "                                         name,\n",
    "                                         registered_model_name=\"CreditModels\")\n",
    "            else:\n",
    "                mlflow.sklearn.log_model(grid,\n",
    "                                         name)"
   ]
  },
  {
   "cell_type": "code",
   "execution_count": 557,
   "id": "cfe44540",
   "metadata": {
    "scrolled": true
   },
   "outputs": [
    {
     "name": "stdout",
     "output_type": "stream",
     "text": [
      "Best params : \n",
      " {'learning_rate': 0.05, 'max_depth': 5, 'n_estimators': 200}\n",
      "model score: 0.545\n",
      "time :  1340.0\n"
     ]
    },
    {
     "name": "stderr",
     "output_type": "stream",
     "text": [
      "Registered model 'CreditModels' already exists. Creating a new version of this model...\n",
      "Created version '37' of model 'CreditModels'.\n"
     ]
    }
   ],
   "source": [
    "# Imbalanced data\n",
    "model_xgb(X_train_prepro, X_test_prepro, y_train_sample, y_test_sample)"
   ]
  },
  {
   "cell_type": "code",
   "execution_count": 558,
   "id": "003f7bc3",
   "metadata": {},
   "outputs": [
    {
     "name": "stdout",
     "output_type": "stream",
     "text": [
      "Best params : \n",
      " {'learning_rate': 0.05, 'max_depth': 5, 'n_estimators': 200}\n",
      "model score: 0.534\n",
      "time :  2947.0\n"
     ]
    },
    {
     "name": "stderr",
     "output_type": "stream",
     "text": [
      "Registered model 'CreditModels' already exists. Creating a new version of this model...\n",
      "Created version '38' of model 'CreditModels'.\n"
     ]
    }
   ],
   "source": [
    "# Oversampling (SMOTE)\n",
    "model_xgb(X_train_sm, X_test_prepro, y_train_sm, y_test_sample)"
   ]
  },
  {
   "cell_type": "code",
   "execution_count": 559,
   "id": "7ead0d19",
   "metadata": {},
   "outputs": [
    {
     "name": "stdout",
     "output_type": "stream",
     "text": [
      "Best params : \n",
      " {'learning_rate': 0.04, 'max_depth': 4, 'n_estimators': 200}\n",
      "model score: 0.678\n",
      "time :  381.0\n"
     ]
    },
    {
     "name": "stderr",
     "output_type": "stream",
     "text": [
      "Registered model 'CreditModels' already exists. Creating a new version of this model...\n",
      "Created version '39' of model 'CreditModels'.\n"
     ]
    }
   ],
   "source": [
    "# Undersampling (RUS)\n",
    "model_xgb(X_train_rus, X_test_prepro, y_train_rus, y_test_sample)"
   ]
  },
  {
   "cell_type": "markdown",
   "id": "07646925",
   "metadata": {},
   "source": [
    "# Split classique"
   ]
  },
  {
   "cell_type": "code",
   "execution_count": 68,
   "id": "3f1d4fc8",
   "metadata": {},
   "outputs": [],
   "source": [
    "X = df_final_without_ID.drop('TARGET',axis=1)\n",
    "y = df_final_without_ID['TARGET']"
   ]
  },
  {
   "cell_type": "code",
   "execution_count": 226,
   "id": "c356abd0",
   "metadata": {},
   "outputs": [],
   "source": [
    "X_train, X_test, y_train, y_test = train_test_split(X,\n",
    "                                                    y,\n",
    "                                                    train_size=0.8)"
   ]
  },
  {
   "cell_type": "code",
   "execution_count": 72,
   "id": "c3c9cbda",
   "metadata": {},
   "outputs": [],
   "source": [
    "# création d'un imputer pour préparer données streamlit\n",
    "categorical_list_2 = []\n",
    "numerical_list_2 = []\n",
    "for i in X_train.columns.tolist():\n",
    "    if X_train [i].dtype=='object':\n",
    "        categorical_list_2.append(i)\n",
    "    else:\n",
    "        numerical_list_2.append(i)\n",
    "simple_imputer = SimpleImputer(strategy='median').fit(X_train[numerical_list_2])\n",
    "signature = infer_signature(X_train, y_train)\n",
    "mlflow.sklearn.save_model(simple_imputer,'imputer', signature=signature)"
   ]
  },
  {
   "cell_type": "markdown",
   "id": "013b3edd",
   "metadata": {},
   "source": [
    "# Modèle final"
   ]
  },
  {
   "cell_type": "code",
   "execution_count": 206,
   "id": "c49b887a",
   "metadata": {},
   "outputs": [
    {
     "data": {
      "text/plain": [
       "18045     1.0\n",
       "102688    0.0\n",
       "158637    0.0\n",
       "84287     0.0\n",
       "270592    0.0\n",
       "         ... \n",
       "221825    0.0\n",
       "207740    0.0\n",
       "138520    0.0\n",
       "263007    0.0\n",
       "299762    0.0\n",
       "Name: TARGET, Length: 3844, dtype: float64"
      ]
     },
     "execution_count": 206,
     "metadata": {},
     "output_type": "execute_result"
    }
   ],
   "source": [
    "y_test_"
   ]
  },
  {
   "cell_type": "code",
   "execution_count": 208,
   "id": "af80f8f9",
   "metadata": {},
   "outputs": [
    {
     "name": "stdout",
     "output_type": "stream",
     "text": [
      "Best params : \n",
      " {'learning_rate': 0.1486983549970351, 'max_depth': 7, 'n_estimators': 500}\n",
      "Scores avant application du threshold :\n",
      "balance_accuracy : 0.684\n",
      "f1 : 0.261\n",
      "roc_auc : 0.684\n",
      "accuracy_score : 0.676\n",
      "fbeta_score : 0.521\n",
      "model custom metric score: 0.683\n",
      "time :  7035.0\n"
     ]
    },
    {
     "name": "stderr",
     "output_type": "stream",
     "text": [
      "Registered model 'CreditModels' already exists. Creating a new version of this model...\n",
      "Created version '52' of model 'CreditModels'.\n"
     ]
    }
   ],
   "source": [
    "X_train_, X_test_, y_train_, y_test_= X_train_rus, X_test_prepro, y_train_rus, y_test_sample\n",
    "name='xgb_final'\n",
    "# params for NearestNeighbors\n",
    "param_grid = [\n",
    "    # XGBClassifier\n",
    "    {'n_estimators': [100,\n",
    "                      300,\n",
    "                      500],\n",
    "     'max_depth': [3,\n",
    "                   5,\n",
    "                   7,\n",
    "                   9],\n",
    "     'learning_rate': (np.logspace(0.07,\n",
    "                                   0.2,\n",
    "                                   4,\n",
    "                                   base=2)-1)\n",
    "    }]\n",
    "# set the path where it is stored\n",
    "mlflow.set_tracking_uri(\"http://127.0.0.1:5000\")\n",
    "# set the name of the experiment folder\n",
    "mlflow.set_experiment('XGBoost Models')\n",
    "# initialise counting time\n",
    "time1 = time.time()\n",
    "# executed as a script\n",
    "if __name__ == \"__main__\":\n",
    "    warnings.filterwarnings(\"ignore\")\n",
    "    np.random.seed(42)\n",
    "    # give the run a name\n",
    "    with mlflow.start_run(run_name=name) as run:\n",
    "        # empty model\n",
    "        cls = XGBClassifier()\n",
    "\n",
    "        # hyperparams tuning\n",
    "        grid = GridSearchCV(estimator=cls,\n",
    "                            param_grid=param_grid,\n",
    "                            return_train_score = True,\n",
    "                            error_score='raise',\n",
    "                            scoring=metier,\n",
    "                            cv =5)\n",
    "        # fit to a certain data\n",
    "        grid.fit(X_train_,\n",
    "                 y_train_)\n",
    "        # displays best params\n",
    "        print(\"Best params : \\n\",\n",
    "              grid.best_params_)\n",
    "        # predict a class with test data\n",
    "        y_pred = grid.predict(X_test_)\n",
    "        # return all metrics\n",
    "        print('Scores avant application du threshold :')\n",
    "        for k,v in zip(eval_metrics(y_test_,\n",
    "                                    y_pred).keys(),\n",
    "                       eval_metrics(y_test_,\n",
    "                                    y_pred).values()):\n",
    "            print('{} : {:.3f}'.format(k,v))\n",
    "        print(\"model custom metric score: %.3f\" % eva_func(y_test_,\n",
    "                                                           y_pred))\n",
    "        \n",
    "        time2 = np.round(time.time() \n",
    "                         - time1,0)\n",
    "        # gives timecode\n",
    "        print(\"time : \",\n",
    "              time2)\n",
    "        # stores metrics into mlflow\n",
    "        for k,v in zip(eval_metrics(y_test_,y_pred).keys(),\n",
    "                       eval_metrics(y_test_,y_pred).values()):\n",
    "            mlflow.log_metric(k,v)\n",
    "        # stores params into mlflow\n",
    "        for k,v in zip(grid.best_params_.keys(),\n",
    "                       grid.best_params_.values()):\n",
    "            mlflow.log_param(k,v)\n",
    "        # type of storage\n",
    "        tracking_url_type_store = urlparse(mlflow.get_tracking_uri()).scheme\n",
    "\n",
    "        # Model registry does not work with file store\n",
    "        if tracking_url_type_store != \"file\":\n",
    "            mlflow.sklearn.log_model(grid,\n",
    "                                     name,\n",
    "                                     registered_model_name=\"CreditModels\")\n",
    "        else:\n",
    "            mlflow.sklearn.log_model(grid,\n",
    "                                     name)"
   ]
  },
  {
   "cell_type": "code",
   "execution_count": 209,
   "id": "58bc6f5f",
   "metadata": {},
   "outputs": [
    {
     "data": {
      "image/png": "[encoded data removed]",
      "text/plain": [
       "<Figure size 1200x400 with 2 Axes>"
      ]
     },
     "metadata": {},
     "output_type": "display_data"
    }
   ],
   "source": [
    "plot_heatmap_confusion(y_test_, y_pred)"
   ]
  },
  {
   "cell_type": "markdown",
   "id": "0bf8ebad",
   "metadata": {},
   "source": [
    "# Préparation au déploiement"
   ]
  },
  {
   "cell_type": "code",
   "execution_count": 212,
   "id": "19ca3fc9",
   "metadata": {},
   "outputs": [],
   "source": [
    "pipeline = Pipeline([('preprocessor', preprocessor), \n",
    "                     ('classifier', XGBClassifier(**grid.best_params_))])"
   ]
  },
  {
   "cell_type": "code",
   "execution_count": 229,
   "id": "9ba2bd2f",
   "metadata": {},
   "outputs": [
    {
     "data": {
      "text/plain": [
       "Pipeline(steps=[('preprocessor',\n",
       "                 ColumnTransformer(transformers=[('num',\n",
       "                                                  Pipeline(steps=[('imputer',\n",
       "                                                                   SimpleImputer(strategy='median')),\n",
       "                                                                  ('scaler',\n",
       "                                                                   StandardScaler())]),\n",
       "                                                  ['CODE_GENDER',\n",
       "                                                   'FLAG_OWN_CAR',\n",
       "                                                   'FLAG_OWN_REALTY',\n",
       "                                                   'CNT_CHILDREN',\n",
       "                                                   'AMT_INCOME_TOTAL',\n",
       "                                                   'AMT_CREDIT', 'AMT_ANNUITY',\n",
       "                                                   'AMT_GOODS_PRICE',\n",
       "                                                   'REGION_POPULATION_RELATIVE',\n",
       "                                                   'DAYS_BIRTH',\n",
       "                                                   'DAYS_EMPLOYED',\n",
       "                                                   'DA...\n",
       "                               grow_policy=None, importance_type=None,\n",
       "                               interaction_constraints=None,\n",
       "                               learning_rate=0.1486983549970351, max_bin=None,\n",
       "                               max_cat_threshold=None, max_cat_to_onehot=None,\n",
       "                               max_delta_step=None, max_depth=7,\n",
       "                               max_leaves=None, min_child_weight=None,\n",
       "                               missing=nan, monotone_constraints=None,\n",
       "                               n_estimators=500, n_jobs=None,\n",
       "                               num_parallel_tree=None, predictor=None,\n",
       "                               random_state=None, ...))])"
      ]
     },
     "execution_count": 229,
     "metadata": {},
     "output_type": "execute_result"
    }
   ],
   "source": [
    "pipeline.fit(X_train,\n",
    "             y_train)"
   ]
  },
  {
   "cell_type": "markdown",
   "id": "019ba78b",
   "metadata": {},
   "source": [
    "# Définition du seuil"
   ]
  },
  {
   "cell_type": "code",
   "execution_count": 230,
   "id": "5e63f233",
   "metadata": {
    "scrolled": false
   },
   "outputs": [
    {
     "data": {
      "image/png": "[encoded data removed]",
      "text/plain": [
       "<Figure size 640x480 with 1 Axes>"
      ]
     },
     "metadata": {},
     "output_type": "display_data"
    }
   ],
   "source": [
    "cost_function = []\n",
    "threshold_x = np.linspace(0.0,\n",
    "                          1,\n",
    "                          30)\n",
    "        \n",
    "for threshold in threshold_x:\n",
    "\n",
    "    # Score du modèle : 0 à 1\n",
    "    y_scores = pipeline.predict_proba(X_test)[:, 1]\n",
    "\n",
    "    # Score > seuil de solvabilité : retourne 1 sinon 0\n",
    "    y_pred = (y_scores > threshold)\n",
    "    y_pred = np.array(y_pred > 0) * 1\n",
    "    \n",
    "    # Calcul de l'indice bancaire\n",
    "    cost_function.append(eva_func(y_test, y_pred))\n",
    "\n",
    "# Affichage du gain en fonction du seuil de solvabilité    \n",
    "plt.plot(threshold_x, cost_function)\n",
    "plt.xlabel(\"Seuil de classification\")\n",
    "plt.ylabel(\"Gain normalisé\")\n",
    "plt.xticks(np.linspace(0.1,\n",
    "                       1,\n",
    "                       10))\n",
    "plt.show()"
   ]
  },
  {
   "cell_type": "code",
   "execution_count": 231,
   "id": "52025a34",
   "metadata": {},
   "outputs": [],
   "source": [
    "threshold = []\n",
    "for thresh, cost in zip(threshold_x, cost_function):\n",
    "    if cost == max(cost_function):\n",
    "        threshold.append(thresh)\n",
    "\n",
    "# Modification de la prediction via un changement de threshold manuel\n",
    "y_pred = pipeline.predict_proba(X_test)\n",
    "y_pred = (y_pred[:,1] >= threshold )*1"
   ]
  },
  {
   "cell_type": "code",
   "execution_count": 232,
   "id": "1f6db48b",
   "metadata": {},
   "outputs": [
    {
     "data": {
      "text/plain": [
       "0.06896551724137931"
      ]
     },
     "execution_count": 232,
     "metadata": {},
     "output_type": "execute_result"
    }
   ],
   "source": [
    "#valeur du seuil\n",
    "threshold[0]"
   ]
  },
  {
   "cell_type": "code",
   "execution_count": 233,
   "id": "286bfc3e",
   "metadata": {},
   "outputs": [
    {
     "name": "stdout",
     "output_type": "stream",
     "text": [
      "Scores après application du threshold :\n",
      "balance_accuracy : 0.700\n",
      "f1 : 0.292\n",
      "roc_auc : 0.700\n",
      "accuracy_score : 0.742\n",
      "fbeta_score : 0.522\n",
      "score custom metric : 0.703\n"
     ]
    },
    {
     "name": "stderr",
     "output_type": "stream",
     "text": [
      "Registered model 'CreditModels' already exists. Creating a new version of this model...\n",
      "Created version '53' of model 'CreditModels'.\n"
     ]
    }
   ],
   "source": [
    "# nommer le model enregistré dans mlflow\n",
    "name='xgb_threshold/'+str(threshold[0])\n",
    "\n",
    "# set the path where it is stored\n",
    "mlflow.set_tracking_uri(\"http://127.0.0.1:5000\")\n",
    "\n",
    "# set the name of the experiment folder\n",
    "mlflow.set_experiment('XGBoost Models')\n",
    "\n",
    "# initialise counting time\n",
    "time1 = time.time()\n",
    "\n",
    "# executed as a script\n",
    "if __name__ == \"__main__\":\n",
    "    warnings.filterwarnings(\"ignore\")\n",
    "    np.random.seed(42)\n",
    "    # give the run a name\n",
    "    with mlflow.start_run(run_name=name) as run:\n",
    "        \n",
    "        # return all metrics\n",
    "        print('Scores après application du threshold :')\n",
    "        for k,v in zip(eval_metrics(y_test,\n",
    "                                    y_pred).keys(),\n",
    "                       eval_metrics(y_test,\n",
    "                                    y_pred).values()):\n",
    "            print('{} : {:.3f}'.format(k,v))\n",
    "        print(\"score custom metric : %.3f\" % eva_func(y_test,\n",
    "                                                     y_pred))\n",
    "        time2 = np.round(time.time() \n",
    "                         - time1,0)\n",
    "        \n",
    "        # stores metrics into mlflow\n",
    "        for k,v in zip(eval_metrics(y_test,\n",
    "                                    y_pred).keys(),\n",
    "                       eval_metrics(y_test,\n",
    "                                    y_pred).values()):\n",
    "            mlflow.log_metric(k,v)\n",
    "            \n",
    "        # stores params into mlflow\n",
    "        for k,v in zip(grid.best_params_.keys(),\n",
    "                       grid.best_params_.values()):\n",
    "            mlflow.log_param(k,v)\n",
    "            \n",
    "        # type of storage\n",
    "        tracking_url_type_store = urlparse(mlflow.get_tracking_uri()).scheme\n",
    "\n",
    "        # Model registry does not work with file store\n",
    "        if tracking_url_type_store != \"file\":\n",
    "            mlflow.sklearn.log_model(pipeline,\n",
    "                                     name,\n",
    "                                     registered_model_name=\"CreditModels\")\n",
    "        else:\n",
    "            mlflow.sklearn.log_model(pipeline,\n",
    "                                     name)"
   ]
  },
  {
   "cell_type": "code",
   "execution_count": 234,
   "id": "aeb54244",
   "metadata": {
    "scrolled": false
   },
   "outputs": [
    {
     "data": {
      "image/png": "[encoded data removed]",
      "text/plain": [
       "<Figure size 640x480 with 1 Axes>"
      ]
     },
     "metadata": {},
     "output_type": "display_data"
    }
   ],
   "source": [
    "# Création des 3 valeurs de la matrice de confusion nécéssaire à l'affichage d'une AUC ROC\n",
    "[fpr, tpr, thr]  = roc_curve(y_true=y_test,\n",
    "                             y_score=pipeline.predict_proba(X_test)[:, 1])\n",
    "# Courbe AUROC\n",
    "plt.plot(fpr, tpr, marker=\"_\")\n",
    "plt.xlabel('1 - specificity')\n",
    "plt.ylabel('recall')\n",
    "plt.show()"
   ]
  },
  {
   "cell_type": "code",
   "execution_count": 235,
   "id": "3857529d",
   "metadata": {},
   "outputs": [],
   "source": [
    "# Enregistrement du modèle \n",
    "signature = infer_signature(X_train, y_train)\n",
    "mlflow.sklearn.save_model(pipeline, 'MLFlow Best Model', signature=signature)"
   ]
  },
  {
   "cell_type": "markdown",
   "id": "aee857d3",
   "metadata": {},
   "source": [
    "# SHAP Values"
   ]
  },
  {
   "cell_type": "code",
   "execution_count": 128,
   "id": "ae58c3aa",
   "metadata": {
    "scrolled": true
   },
   "outputs": [],
   "source": [
    "## Quick import\n",
    "# import joblib\n",
    "# import os\n",
    "# import pandas as pd\n",
    "path = '/Users/alexandredelaguillaumie/Documents/Projet 7/MLFlow Best Model'\n",
    "pipeline = joblib.load(os.path.join(path,'model.pkl'))\n",
    "path2 = '/Users/alexandredelaguillaumie/Documents/Projet 7/Exports'\n",
    "X_train = joblib.load(os.path.join(path2,'sample_test_set.pickle')).drop('TARGET',axis=1)"
   ]
  },
  {
   "cell_type": "code",
   "execution_count": 129,
   "id": "bb37de5c",
   "metadata": {},
   "outputs": [],
   "source": [
    "categorical_list_2 = []\n",
    "numerical_list_2 = []\n",
    "for i in X_train.columns.tolist():\n",
    "    if X_train[i].dtype=='object':\n",
    "        categorical_list_2.append(i)\n",
    "    else:\n",
    "        numerical_list_2.append(i)\n",
    "        \n",
    "# Récupérer le nom des catégories\n",
    "cat = pipeline['preprocessor'].transformers_[1][1]\\\n",
    "      .get_feature_names_out(categorical_list_2)\n",
    "\n",
    "# Enregistrer le model\n",
    "classifier = pipeline.named_steps['classifier']\n",
    "\n",
    "# Nom de l'ensemble des colonnes preprocessed\n",
    "column_names = numerical_list_2+cat.tolist()"
   ]
  },
  {
   "cell_type": "code",
   "execution_count": 130,
   "id": "f9252e0c",
   "metadata": {
    "scrolled": true
   },
   "outputs": [
    {
     "name": "stderr",
     "output_type": "stream",
     "text": [
      "100%|===================| 10232/10251 [02:57<00:00]       "
     ]
    }
   ],
   "source": [
    "import shap\n",
    "# Générer Shapley Values globales\n",
    "df_preprocess = pd.DataFrame(pipeline.named_steps['preprocessor'].transform(X_train),\n",
    "                             columns=column_names)\n",
    "classifier = pipeline.named_steps['classifier']\n",
    "explainer = shap.Explainer(classifier, df_preprocess)\n",
    "shap_values = explainer(df_preprocess,check_additivity=False)"
   ]
  },
  {
   "cell_type": "code",
   "execution_count": 131,
   "id": "39af9a7a",
   "metadata": {
    "scrolled": false
   },
   "outputs": [
    {
     "data": {
      "image/png": "[encoded data removed]",
      "text/plain": [
       "<Figure size 800x950 with 2 Axes>"
      ]
     },
     "metadata": {},
     "output_type": "display_data"
    }
   ],
   "source": [
    "# Afficher interpretabilité globale\n",
    "shap.plots.beeswarm(shap_values,max_display=20)"
   ]
  },
  {
   "cell_type": "code",
   "execution_count": 132,
   "id": "35e9a1ba",
   "metadata": {},
   "outputs": [],
   "source": [
    "#Génerer shap values pour un client donné\n",
    "client_id = X_train.index.tolist()[0]\n",
    "list_ID = X_train.index.tolist()\n",
    "index_ID = []\n",
    "for ind, ID in enumerate(list_ID):\n",
    "    if list_ID[ind] == client_id:\n",
    "        index_ID.append(ind)\n",
    "    else:\n",
    "        pass\n",
    "shap_values_client = shap_values[index_ID][0]"
   ]
  },
  {
   "cell_type": "code",
   "execution_count": 133,
   "id": "a7455017",
   "metadata": {},
   "outputs": [
    {
     "data": {
      "text/plain": [
       "222044"
      ]
     },
     "execution_count": 133,
     "metadata": {},
     "output_type": "execute_result"
    }
   ],
   "source": [
    "client_id"
   ]
  },
  {
   "cell_type": "code",
   "execution_count": 134,
   "id": "874b5b30",
   "metadata": {},
   "outputs": [
    {
     "data": {
      "image/png": "[encoded data removed]",
      "text/plain": [
       "<Figure size 800x1150 with 3 Axes>"
      ]
     },
     "metadata": {},
     "output_type": "display_data"
    }
   ],
   "source": [
    "# Afficher interpretabilité locale\n",
    "shap.plots.waterfall(shap_values_client,max_display=20)"
   ]
  }
 ],
 "metadata": {
  "kernelspec": {
   "display_name": "Python 3 (ipykernel)",
   "language": "python",
   "name": "python3"
  },
  "language_info": {
   "codemirror_mode": {
    "name": "ipython",
    "version": 3
   },
   "file_extension": ".py",
   "mimetype": "text/x-python",
   "name": "python",
   "nbconvert_exporter": "python",
   "pygments_lexer": "ipython3",
   "version": "3.9.13"
  }
 },
 "nbformat": 4,
 "nbformat_minor": 5
}
